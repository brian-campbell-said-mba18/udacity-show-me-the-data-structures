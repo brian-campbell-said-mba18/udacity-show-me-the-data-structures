{
 "cells": [
  {
   "cell_type": "markdown",
   "metadata": {},
   "source": [
    "# Udacity's Psuedocode Help"
   ]
  },
  {
   "cell_type": "markdown",
   "metadata": {},
   "source": [
    "Here is one type of pseudocode for this coding schema:\n",
    "\n",
    "1. Take a string and determine the relevant frequencies of the characters.\n",
    "2. Build and sort a list of tuples from lowest to highest frequencies.\n",
    "3. Build the Huffman Tree by assigning a binary code to each letter, using shorter codes for the more frequent letters. (This is the heart of the Huffman algorithm.)\n",
    "4. Trim the Huffman Tree (remove the frequencies from the previously built tree).\n",
    "5. Encode the text into its compressed form.\n",
    "6. Decode the text from its compressed form."
   ]
  },
  {
   "cell_type": "markdown",
   "metadata": {},
   "source": [
    "## 1. String to character frequency dict"
   ]
  },
  {
   "cell_type": "code",
   "execution_count": 45,
   "metadata": {},
   "outputs": [],
   "source": [
    "def str_to_dict(the_string):\n",
    "    '''\n",
    "    The purpose of this function is create a dictionary from the string. The keys\n",
    "    of the dictionary are the unique characters in the string. The values are frequencies\n",
    "    in which these unique characters occur.\n",
    "    \n",
    "    Function Argument: A string of at least 1 character in length.\n",
    "    \n",
    "    The function returns: The dictionary of unique characters as keys, and the frequency counts\n",
    "    as values.\n",
    "    '''\n",
    "    # This asserts that function argument is a string.\n",
    "    assert type(the_string) == str, \"The sole argument must be a string!\"\n",
    "    \n",
    "    # This asserts that the argument is a string that has a length of at least 1.\n",
    "    assert len(the_string) > 0, \"String argument must have at least 1 character.\"\n",
    "    \n",
    "    # This initates the frequency dictionary.\n",
    "    frequency_dict = {}\n",
    "    \n",
    "    # The for loop either (if) initally adds the unique character with a frequency count of 1, \n",
    "    # or (else) updates the unique character by adding 1.\n",
    "    for i in the_string:\n",
    "        if frequency_dict.get(i) == None:\n",
    "            frequency_dict[i] = 1\n",
    "        else:\n",
    "            frequency_dict[i] += 1\n",
    "    \n",
    "    # This returns the frequency dictionary.\n",
    "    return frequency_dict"
   ]
  },
  {
   "cell_type": "code",
   "execution_count": 46,
   "metadata": {},
   "outputs": [],
   "source": [
    "import operator\n",
    "def dict_to_sorted_list(the_dict):\n",
    "    '''\n",
    "    This function is specifically built to convert the output of the str_to_dict() function.\n",
    "    \n",
    "    Argument: The dictionary output from str_to_dict().\n",
    "    \n",
    "    What the function does: In a for loop, the key and values of the argument dictionary\n",
    "    are converted into a tuple: (key, value), which is then appended to a list. Once the\n",
    "    dictionary iteration is finished, the list is sorted from greatest to least by tuple[1],\n",
    "    the value of the tuple (tuple[0] is the key.\n",
    "    \n",
    "    Returns: A list of tuple sorted by values. These values are the frequency in which a\n",
    "    character occurs.\n",
    "    '''\n",
    "    output_list = [] # This initiates the output list.\n",
    "    \n",
    "    # The for loop below converts keys and values to tuple items in the output_list.\n",
    "    for key, value in the_dict.items():\n",
    "        x = (key, value)\n",
    "        output_list.append(x)\n",
    "    \n",
    "    # This sorts the output list from greatest to least.\n",
    "    # This code comes from Reference 1 in References.\n",
    "    output_list.sort(key = operator.itemgetter(1), reverse=True)\n",
    "    \n",
    "    # This returns the sorted output_list.\n",
    "    return output_list"
   ]
  },
  {
   "cell_type": "markdown",
   "metadata": {},
   "source": [
    "## Task 1 Complete\n",
    "1. Take a string and determine the relevant frequencies of the characters."
   ]
  },
  {
   "cell_type": "code",
   "execution_count": 47,
   "metadata": {},
   "outputs": [],
   "source": [
    "the_dict = str_to_dict(\"I am a huge idiot\")"
   ]
  },
  {
   "cell_type": "code",
   "execution_count": 48,
   "metadata": {},
   "outputs": [
    {
     "data": {
      "text/plain": [
       "{'I': 1,\n",
       " ' ': 4,\n",
       " 'a': 2,\n",
       " 'm': 1,\n",
       " 'h': 1,\n",
       " 'u': 1,\n",
       " 'g': 1,\n",
       " 'e': 1,\n",
       " 'i': 2,\n",
       " 'd': 1,\n",
       " 'o': 1,\n",
       " 't': 1}"
      ]
     },
     "execution_count": 48,
     "metadata": {},
     "output_type": "execute_result"
    }
   ],
   "source": [
    "the_dict"
   ]
  },
  {
   "cell_type": "markdown",
   "metadata": {},
   "source": [
    "## Task 2 Complete\n",
    "2. Build and sort a list of tuples from lowest to highest frequencies."
   ]
  },
  {
   "cell_type": "code",
   "execution_count": 49,
   "metadata": {},
   "outputs": [],
   "source": [
    "sorted_list = dict_to_sorted_list(the_dict)"
   ]
  },
  {
   "cell_type": "code",
   "execution_count": 50,
   "metadata": {},
   "outputs": [
    {
     "data": {
      "text/plain": [
       "[(' ', 4),\n",
       " ('a', 2),\n",
       " ('i', 2),\n",
       " ('I', 1),\n",
       " ('m', 1),\n",
       " ('h', 1),\n",
       " ('u', 1),\n",
       " ('g', 1),\n",
       " ('e', 1),\n",
       " ('d', 1),\n",
       " ('o', 1),\n",
       " ('t', 1)]"
      ]
     },
     "execution_count": 50,
     "metadata": {},
     "output_type": "execute_result"
    }
   ],
   "source": [
    "sorted_list"
   ]
  },
  {
   "cell_type": "markdown",
   "metadata": {},
   "source": [
    "## Task 3, In Progress\n",
    "3. Build the Huffman Tree by assigning a binary code to each letter, using shorter codes for the more frequent letters. (This is the heart of the Huffman algorithm.)"
   ]
  },
  {
   "cell_type": "markdown",
   "metadata": {},
   "source": [
    "### Subtask 1 Build a tree node, COMPLETE!!"
   ]
  },
  {
   "cell_type": "code",
   "execution_count": 1,
   "metadata": {},
   "outputs": [],
   "source": [
    "class Node:\n",
    "    '''\n",
    "    This class serves as the node for the tree class.\n",
    "    \n",
    "    Init Values:\n",
    "        self.character - This is the string character to be encoded.\n",
    "        self.frequency - This is the frequency of the string character.\n",
    "        self.previous - This references the parent node, if there is one.\n",
    "        self.left_child - This references the left child node, if there is one.\n",
    "        \n",
    "    References: All the get and has functions comes from Reference 2 of References. The set\n",
    "                funcitons come from Reference 3.\n",
    "    '''\n",
    "    def __init__(self, frequency, character):\n",
    "        self.frequency = frequency\n",
    "        self.character = character\n",
    "        self.huff_code = None\n",
    "        self.left_child = None\n",
    "        self.right_child = None\n",
    "    \n",
    "    def get_character(self):\n",
    "        '''This returns self.character.'''\n",
    "        return self.character\n",
    "    \n",
    "    def get_frequency(self):\n",
    "        '''This returns self.frequency.'''\n",
    "        return self.frequency\n",
    "    \n",
    "    def get_huff_code(self):\n",
    "        '''This returns self.huff_code.'''\n",
    "        return self.huff_code\n",
    "    \n",
    "    def get_left_child(self):\n",
    "        '''This returns self.left_child.'''\n",
    "        return self.left_child\n",
    "    \n",
    "    def has_left_child(self):\n",
    "        '''Returns True/False, is there a left child?'''\n",
    "        return self.get_left_child() != None\n",
    "    \n",
    "    def set_left_child(self, node):\n",
    "        '''This function takes in the argument node and assigns self.left_child to it.'''\n",
    "        assert type(node) == Node, \"This function needs a node as an argument.\"\n",
    "        self.left_child = node\n",
    "    \n",
    "    def get_right_child(self):\n",
    "        '''This returns self.right_child'''\n",
    "        return self.right_child\n",
    "    \n",
    "    def has_right_child(self):\n",
    "        '''Returns True/False, is there a right child?'''\n",
    "        return self.get_right_child() != None\n",
    "    \n",
    "    def set_right_child(self, node):\n",
    "        '''This function takes in the argument node and assigns self.right_child to it.'''\n",
    "        assert type(node) == Node, \"This function needs a node as an argument.\"\n",
    "        self.right_child = node\n",
    "        \n",
    "    def __repr__(self):\n",
    "        '''This is what is returned when print(Node) is called.'''\n",
    "        return f'Node({self.frequency})'\n",
    "    \n",
    "    def __str__(self):\n",
    "        '''This is what is returned when str(Node) is called.'''\n",
    "        return f'Node({self.frequency})'"
   ]
  },
  {
   "cell_type": "markdown",
   "metadata": {},
   "source": [
    "### Subtask 2: Build a Tree Class, WIP"
   ]
  },
  {
   "cell_type": "code",
   "execution_count": null,
   "metadata": {},
   "outputs": [],
   "source": [
    "class Tree:\n",
    "    '''\n",
    "    This is the tree class which consists of nodes. Every node in the tree can have a left and \n",
    "    right child.\n",
    "    '''\n",
    "    def __init__(self):\n",
    "        '''\n",
    "        Init Variables:\n",
    "            self.root - This is the root node; it is the top of the tree. Initially, the the root\n",
    "            node is set to None.\n",
    "        '''\n",
    "        self.root = None\n",
    "    \n",
    "    def get_root(self):\n",
    "        '''This returns the root node or none if there isn't a root node.'''\n",
    "        return self.root\n",
    "    \n",
    "    def set_root(self, node):\n",
    "        '''This sets the root node.'''\n",
    "        assert type(node) == Node, \"This function needs a node to set the root!\"\n",
    "        self.root = node"
   ]
  },
  {
   "cell_type": "code",
   "execution_count": 16,
   "metadata": {},
   "outputs": [],
   "source": [
    "# References\n",
    "# 1. https://algocoding.wordpress.com/2015/04/14/how-to-sort-a-list-of-tuples-in-python-3-4/\n",
    "# 2. Udacity: Data Structures & Algorithms; Data Structures; Lesson 4: Trees; 12. Code: Create a\n",
    "#    Binary Tree\n",
    "# 3. Udacity: Data Structures & Algorithms; Data Structures; Lesson 4: Trees; 15. Code: BST"
   ]
  }
 ],
 "metadata": {
  "kernelspec": {
   "display_name": "Python 3",
   "language": "python",
   "name": "python3"
  },
  "language_info": {
   "codemirror_mode": {
    "name": "ipython",
    "version": 3
   },
   "file_extension": ".py",
   "mimetype": "text/x-python",
   "name": "python",
   "nbconvert_exporter": "python",
   "pygments_lexer": "ipython3",
   "version": "3.7.4"
  }
 },
 "nbformat": 4,
 "nbformat_minor": 2
}
