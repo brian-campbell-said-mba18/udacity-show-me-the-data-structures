{
 "cells": [
  {
   "cell_type": "markdown",
   "metadata": {},
   "source": [
    "# Udacity's Psuedocode Help"
   ]
  },
  {
   "cell_type": "markdown",
   "metadata": {},
   "source": [
    "Here is one type of pseudocode for this coding schema:\n",
    "\n",
    "1. Take a string and determine the relevant frequencies of the characters.\n",
    "2. Build and sort a list of tuples from lowest to highest frequencies.\n",
    "3. Build the Huffman Tree by assigning a binary code to each letter, using shorter codes for the more frequent letters. (This is the heart of the Huffman algorithm.)\n",
    "4. Trim the Huffman Tree (remove the frequencies from the previously built tree).\n",
    "5. Encode the text into its compressed form.\n",
    "6. Decode the text from its compressed form."
   ]
  },
  {
   "cell_type": "markdown",
   "metadata": {},
   "source": [
    "## 1. String to character frequency dict"
   ]
  },
  {
   "cell_type": "code",
   "execution_count": 160,
   "metadata": {},
   "outputs": [],
   "source": [
    "def str_to_dict(the_string):\n",
    "    '''\n",
    "    The purpose of this function is create a dictionary from the string. The keys\n",
    "    of the dictionary are the unique characters in the string. The values are frequencies\n",
    "    in which these unique characters occur.\n",
    "    \n",
    "    Function Argument: A string of at least 1 character in length.\n",
    "    \n",
    "    The function returns: The dictionary of unique characters as keys, and the frequency counts\n",
    "    as values.\n",
    "    '''\n",
    "    # This asserts that function argument is a string.\n",
    "    assert type(the_string) == str, \"The sole argument must be a string!\"\n",
    "    \n",
    "    # This asserts that the argument is a string that has a length of at least 1.\n",
    "    assert len(the_string) > 0, \"String argument must have at least 1 character.\"\n",
    "    \n",
    "    # This initates the frequency dictionary.\n",
    "    frequency_dict = {}\n",
    "    \n",
    "    # The for loop either (if) initally adds the unique character with a frequency count of 1, \n",
    "    # or (else) updates the unique character by adding 1.\n",
    "    for i in the_string:\n",
    "        if frequency_dict.get(i) == None:\n",
    "            frequency_dict[i] = 1\n",
    "        else:\n",
    "            frequency_dict[i] += 1\n",
    "    \n",
    "    # This returns the frequency dictionary.\n",
    "    return frequency_dict"
   ]
  },
  {
   "cell_type": "code",
   "execution_count": 161,
   "metadata": {},
   "outputs": [],
   "source": [
    "import operator\n",
    "def dict_to_sorted_list(the_dict):\n",
    "    '''\n",
    "    This function is specifically built to convert the output of the str_to_dict() function.\n",
    "    \n",
    "    Argument: The dictionary output from str_to_dict().\n",
    "    \n",
    "    What the function does: In a for loop, the key and values of the argument dictionary\n",
    "    are converted into a tuple: (key, value), which is then appended to a list. Once the\n",
    "    dictionary iteration is finished, the list is sorted from greatest to least by tuple[1],\n",
    "    the value of the tuple (tuple[0] is the key.\n",
    "    \n",
    "    Returns: A list of tuple sorted by values. These values are the frequency in which a\n",
    "    character occurs.\n",
    "    '''\n",
    "    output_list = [] # This initiates the output list.\n",
    "    \n",
    "    # The for loop below converts keys and values to tuple items in the output_list.\n",
    "    for key, value in the_dict.items():\n",
    "        x = (key, value)\n",
    "        output_list.append(x)\n",
    "    \n",
    "    # This sorts the output list from greatest to least.\n",
    "    # This code comes from Reference 1 in References.\n",
    "    output_list.sort(key = operator.itemgetter(1), reverse=True)\n",
    "    \n",
    "    # This returns the sorted output_list.\n",
    "    return output_list"
   ]
  },
  {
   "cell_type": "markdown",
   "metadata": {},
   "source": [
    "## Task 1 Complete\n",
    "1. Take a string and determine the relevant frequencies of the characters."
   ]
  },
  {
   "cell_type": "code",
   "execution_count": 162,
   "metadata": {},
   "outputs": [],
   "source": [
    "the_dict = str_to_dict(\"I am a huge idiot\")"
   ]
  },
  {
   "cell_type": "code",
   "execution_count": 163,
   "metadata": {},
   "outputs": [
    {
     "data": {
      "text/plain": [
       "{'I': 1,\n",
       " ' ': 4,\n",
       " 'a': 2,\n",
       " 'm': 1,\n",
       " 'h': 1,\n",
       " 'u': 1,\n",
       " 'g': 1,\n",
       " 'e': 1,\n",
       " 'i': 2,\n",
       " 'd': 1,\n",
       " 'o': 1,\n",
       " 't': 1}"
      ]
     },
     "execution_count": 163,
     "metadata": {},
     "output_type": "execute_result"
    }
   ],
   "source": [
    "the_dict"
   ]
  },
  {
   "cell_type": "markdown",
   "metadata": {},
   "source": [
    "## Task 2 Complete\n",
    "2. Build and sort a list of tuples from lowest to highest frequencies."
   ]
  },
  {
   "cell_type": "code",
   "execution_count": 164,
   "metadata": {},
   "outputs": [],
   "source": [
    "sorted_list = dict_to_sorted_list(the_dict)"
   ]
  },
  {
   "cell_type": "code",
   "execution_count": 165,
   "metadata": {},
   "outputs": [
    {
     "data": {
      "text/plain": [
       "[(' ', 4),\n",
       " ('a', 2),\n",
       " ('i', 2),\n",
       " ('I', 1),\n",
       " ('m', 1),\n",
       " ('h', 1),\n",
       " ('u', 1),\n",
       " ('g', 1),\n",
       " ('e', 1),\n",
       " ('d', 1),\n",
       " ('o', 1),\n",
       " ('t', 1)]"
      ]
     },
     "execution_count": 165,
     "metadata": {},
     "output_type": "execute_result"
    }
   ],
   "source": [
    "sorted_list"
   ]
  },
  {
   "cell_type": "code",
   "execution_count": null,
   "metadata": {},
   "outputs": [],
   "source": []
  },
  {
   "cell_type": "markdown",
   "metadata": {},
   "source": [
    "## Task 3, In Progress\n",
    "3. Build the Huffman Tree by assigning a binary code to each letter, using shorter codes for the more frequent letters. (This is the heart of the Huffman algorithm.)"
   ]
  },
  {
   "cell_type": "markdown",
   "metadata": {},
   "source": [
    "### Subtask 1 Build a tree node, COMPLETE!!"
   ]
  },
  {
   "cell_type": "code",
   "execution_count": 166,
   "metadata": {},
   "outputs": [],
   "source": [
    "class Node:\n",
    "    '''\n",
    "    This class serves as the node for the tree class.\n",
    "    \n",
    "    Init Values:\n",
    "        self.character - This is the string character to be encoded.\n",
    "        self.frequency - This is the frequency of the string character.\n",
    "        self.previous - This references the parent node, if there is one.\n",
    "        self.left_child - This references the left child node, if there is one.\n",
    "        \n",
    "    References: All the get and has functions comes from Reference 2 of References. The set\n",
    "                funcitons come from Reference 3.\n",
    "    '''\n",
    "    def __init__(self, frequency, character = None):\n",
    "        # An error is raised if frequency is not an integer value.\n",
    "        assert type(frequency) == int, \"Self.frequency must be an integer!\"\n",
    "        self.frequency = frequency\n",
    "        self.character = character\n",
    "        self.huff_code = None\n",
    "        self.left_child = None\n",
    "        self.right_child = None\n",
    "    \n",
    "    def get_character(self):\n",
    "        '''This returns self.character.'''\n",
    "        return self.character\n",
    "    \n",
    "    def get_frequency(self):\n",
    "        '''This returns self.frequency.'''\n",
    "        return self.frequency\n",
    "    \n",
    "    def get_huff_code(self):\n",
    "        '''This returns self.huff_code.'''\n",
    "        return self.huff_code\n",
    "    \n",
    "    def get_left_child(self):\n",
    "        '''This returns self.left_child.'''\n",
    "        return self.left_child\n",
    "    \n",
    "    def has_left_child(self):\n",
    "        '''Returns True/False, is there a left child?'''\n",
    "        return self.get_left_child() != None\n",
    "    \n",
    "    def set_left_child(self, node):\n",
    "        '''This function takes in the argument node and assigns self.left_child to it.'''\n",
    "        assert type(node) == Node, \"This function needs a node as an argument.\"\n",
    "        self.left_child = node\n",
    "    \n",
    "    def get_right_child(self):\n",
    "        '''This returns self.right_child'''\n",
    "        return self.right_child\n",
    "    \n",
    "    def has_right_child(self):\n",
    "        '''Returns True/False, is there a right child?'''\n",
    "        return self.get_right_child() != None\n",
    "    \n",
    "    def set_right_child(self, node):\n",
    "        '''This function takes in the argument node and assigns self.right_child to it.'''\n",
    "        assert type(node) == Node, \"This function needs a node as an argument.\"\n",
    "        self.right_child = node\n",
    "        \n",
    "    def __repr__(self):\n",
    "        '''This is what is returned when print(Node) is called.'''\n",
    "        return f'Node({self.frequency})'\n",
    "    \n",
    "    def __str__(self):\n",
    "        '''This is what is returned when str(Node) is called.'''\n",
    "        return f'Node({self.frequency})'"
   ]
  },
  {
   "cell_type": "markdown",
   "metadata": {},
   "source": [
    "### Subtask 2: Build a Tree Class, WIP"
   ]
  },
  {
   "cell_type": "code",
   "execution_count": 167,
   "metadata": {},
   "outputs": [],
   "source": [
    "class Tree:\n",
    "    '''\n",
    "    This is the tree class which consists of nodes. Every node in the tree can have a left and \n",
    "    right child.\n",
    "    '''\n",
    "    def __init__(self, root):\n",
    "        '''\n",
    "        Init Variables:\n",
    "            self.root - This is the root node; it is the top of the tree. Initially, the root\n",
    "            node is set to None.\n",
    "        '''\n",
    "        # An error is raised if the root isn't a Node.\n",
    "        assert type(root) == Node, \"This function needs a node to set the root!\"\n",
    "        self.root = node\n",
    "    \n",
    "    def get_root(self):\n",
    "        '''This returns the root node or none if there isn't a root node.'''\n",
    "        return self.root\n",
    "    \n",
    "    def set_root(self, root):\n",
    "        '''This sets the root node.'''\n",
    "        assert type(root) == Node, \"This function needs a node to set the root!\"\n",
    "        self.root = root\n",
    "    \n",
    "    def __repr__(self):\n",
    "        '''This is what is returned when print(Tree) is called.'''\n",
    "        return f\"Tree(Root({self.root}))\"\n",
    "    \n",
    "    def __str__(self):\n",
    "        '''This is what is returned when str(Tree) is called.'''\n",
    "        return f\"Tree(Root({self.root}))\""
   ]
  },
  {
   "cell_type": "markdown",
   "metadata": {},
   "source": [
    "# Deviating from Udacity\n",
    "https://medium.com/iecse-hashtag/huffman-coding-compression-basics-in-python-6653cdb4c476"
   ]
  },
  {
   "cell_type": "markdown",
   "metadata": {},
   "source": [
    "## NEW TASK:\n",
    "\n",
    "A. Build a basic container node for queue\n",
    "\n",
    "B. Build highly functional priority queue!\n",
    "        This source says I should use a queue, but I'm going to use a stack instead, https://people.ok.ubc.ca/ylucet/DS/Huffman.html"
   ]
  },
  {
   "cell_type": "code",
   "execution_count": null,
   "metadata": {},
   "outputs": [],
   "source": []
  },
  {
   "cell_type": "markdown",
   "metadata": {},
   "source": [
    "### A. Build a basic container node for queue"
   ]
  },
  {
   "cell_type": "code",
   "execution_count": 168,
   "metadata": {},
   "outputs": [],
   "source": [
    "class Stack_Node():\n",
    "    '''\n",
    "    This is a very purposefuly a rudimentary node for the priority stack. It is only meant to\n",
    "    contain information. The priority stack class consists of these nodes.\n",
    "    \n",
    "    self.data: This data should only be Nodes or Trees.\n",
    "    '''\n",
    "    \n",
    "    def __init__(self, data):\n",
    "        '''\n",
    "        Init Variables:\n",
    "            self.data - The data in the node. This data should only be Nodes or Trees.\n",
    "            self.next - The next node, if there is one (set to None by default).\n",
    "        '''\n",
    "        assert (type(data) == Node) or (type(data) == Tree), f'''The data needs to be in the form\n",
    "        of a node or tree.'''\n",
    "        self.data = data\n",
    "        self.next = None\n",
    "        self.previous = None\n",
    "        \n",
    "    def get_data(self):\n",
    "        '''This returns self.data.'''\n",
    "        return self.data\n",
    "    \n",
    "    def set_data(self, data):\n",
    "        '''This sets the data for the node, which should come in the form of a Node or Tree.'''\n",
    "        assert (type(data) == Node) or (type(data) == Tree), f'''The data needs to be in the form\n",
    "        of a node or tree.'''\n",
    "        self.data = data\n",
    "        \n",
    "    def __repr__(self):\n",
    "        '''This is what is returned when print(Stack_Node) is called.'''\n",
    "        return f\"Stack_Node({self.data})\"\n",
    "    \n",
    "    def __str__(self):\n",
    "        '''This is what is returned when str(Stack_Node) is called.'''\n",
    "        return f\"Stack_Node({self.data})\""
   ]
  },
  {
   "cell_type": "markdown",
   "metadata": {},
   "source": [
    "## TASK 3.5: Build a function that converts the list of tuples to the nodes."
   ]
  },
  {
   "cell_type": "markdown",
   "metadata": {},
   "source": [
    "### This checks to see if a tuple value can be converted to nodes. YESS!!!!!"
   ]
  },
  {
   "cell_type": "code",
   "execution_count": 169,
   "metadata": {},
   "outputs": [
    {
     "data": {
      "text/plain": [
       "(' ', 4)"
      ]
     },
     "execution_count": 169,
     "metadata": {},
     "output_type": "execute_result"
    }
   ],
   "source": [
    "the_sampo = sorted_list[0]\n",
    "the_sampo"
   ]
  },
  {
   "cell_type": "code",
   "execution_count": 170,
   "metadata": {},
   "outputs": [],
   "source": [
    "stupid_node = Node(the_sampo[1], the_sampo[0])"
   ]
  },
  {
   "cell_type": "code",
   "execution_count": 171,
   "metadata": {},
   "outputs": [
    {
     "data": {
      "text/plain": [
       "4"
      ]
     },
     "execution_count": 171,
     "metadata": {},
     "output_type": "execute_result"
    }
   ],
   "source": [
    "stupid_node.get_frequency()"
   ]
  },
  {
   "cell_type": "code",
   "execution_count": 172,
   "metadata": {},
   "outputs": [
    {
     "data": {
      "text/plain": [
       "' '"
      ]
     },
     "execution_count": 172,
     "metadata": {},
     "output_type": "execute_result"
    }
   ],
   "source": [
    "stupid_node.get_character()"
   ]
  },
  {
   "cell_type": "markdown",
   "metadata": {},
   "source": [
    "### This checks to see if a node can be added to a stack node. YESS!!!!!"
   ]
  },
  {
   "cell_type": "code",
   "execution_count": 173,
   "metadata": {},
   "outputs": [],
   "source": [
    "test_s_node = Stack_Node(stupid_node)"
   ]
  },
  {
   "cell_type": "code",
   "execution_count": 174,
   "metadata": {},
   "outputs": [
    {
     "data": {
      "text/plain": [
       "Stack_Node(Node(4))"
      ]
     },
     "execution_count": 174,
     "metadata": {},
     "output_type": "execute_result"
    }
   ],
   "source": [
    "test_s_node"
   ]
  },
  {
   "cell_type": "markdown",
   "metadata": {},
   "source": [
    "### This checks to see if I can create a node, that's put in a tree, which is then put into a stack_node. YESS!"
   ]
  },
  {
   "cell_type": "code",
   "execution_count": 175,
   "metadata": {},
   "outputs": [],
   "source": [
    "new_node = Node(the_sampo[1], the_sampo[0])"
   ]
  },
  {
   "cell_type": "code",
   "execution_count": 176,
   "metadata": {},
   "outputs": [],
   "source": [
    "new_tree = Tree(new_node)"
   ]
  },
  {
   "cell_type": "code",
   "execution_count": 177,
   "metadata": {},
   "outputs": [
    {
     "data": {
      "text/plain": [
       "Tree(Root(Node(4)))"
      ]
     },
     "execution_count": 177,
     "metadata": {},
     "output_type": "execute_result"
    }
   ],
   "source": [
    "new_tree"
   ]
  },
  {
   "cell_type": "code",
   "execution_count": 178,
   "metadata": {},
   "outputs": [],
   "source": [
    "new_stack_node = Stack_Node(new_tree)"
   ]
  },
  {
   "cell_type": "code",
   "execution_count": 179,
   "metadata": {},
   "outputs": [
    {
     "data": {
      "text/plain": [
       "Stack_Node(Tree(Root(Node(4))))"
      ]
     },
     "execution_count": 179,
     "metadata": {},
     "output_type": "execute_result"
    }
   ],
   "source": [
    "new_stack_node"
   ]
  },
  {
   "cell_type": "code",
   "execution_count": 180,
   "metadata": {},
   "outputs": [
    {
     "data": {
      "text/plain": [
       "__main__.Stack_Node"
      ]
     },
     "execution_count": 180,
     "metadata": {},
     "output_type": "execute_result"
    }
   ],
   "source": [
    "type(new_stack_node)"
   ]
  },
  {
   "cell_type": "markdown",
   "metadata": {},
   "source": [
    "## B. Build highly functional priority stack, not queue!\n",
    "Although this source says it should be a queue, a stack structure would serve much better!"
   ]
  },
  {
   "cell_type": "code",
   "execution_count": 238,
   "metadata": {},
   "outputs": [],
   "source": [
    "class Priority_Stack:\n",
    "    ''' The purpose of the priority stack is to hold the stack nodes that will help build the\n",
    "    Huffman Tree.'''\n",
    "    \n",
    "    def __init__(self, head=None):\n",
    "        '''\n",
    "        Init Variables:\n",
    "            self.head = The top of the stack.\n",
    "            self.elements_in_stack = The number of elements in the stack.\n",
    "        '''\n",
    "        # An error is raised if head is not None or not a Stack Node.\n",
    "        assert (type(head) == Stack_Node) or (head == None), f'''Self.bottom must be a \n",
    "        Stack_Node or None.'''\n",
    "        self.head = head\n",
    "        \n",
    "        # This conditional statement initiates self.elements_in_stack.\n",
    "        if self.head != None:\n",
    "            self.elements_in_stack = 1 # If self.head initiated, this is 1.\n",
    "        else:\n",
    "            self.elements_in_stack = 0 # If self.head not initiated, this is 0.\n",
    "        \n",
    "    def stack_size(self):\n",
    "        '''This returns self.elements_in_stack.'''\n",
    "        return self.elements_in_stack\n",
    "    \n",
    "    def is_stack_empty(self):\n",
    "        '''This returns True if the stack is empty, False if it is not.'''\n",
    "        return self.stack_size() < 1\n",
    "    \n",
    "    def push(self, value):\n",
    "        '''This adds Stack Nodes to the stack.'''\n",
    "        assert type(value) == Stack_Node, 'Only Stack_Nodes can be pushed onto the stack.'\n",
    "        \n",
    "        # This conditional pushes the value onto the top of the stack. It either initiates a \n",
    "        # self.head for an empty stack, or it creates a new top of the stack.\n",
    "        if self.is_stack_empty():\n",
    "            self.head = value\n",
    "        else:\n",
    "            previous = self.head\n",
    "            self.head.next = value\n",
    "            self.head = self.head.next\n",
    "            self.head.previous = previous\n",
    "        \n",
    "        # The number of elements in the stack is updated.\n",
    "        self.elements_in_stack += 1\n",
    "        \n",
    "    def pop(self):\n",
    "        pass\n",
    "    \n",
    "    def __repr__(self):\n",
    "        '''This is what is returned when the print(Priority_Stack) is called.'''\n",
    "        if self.is_stack_empty():\n",
    "            return f\"<Empty Stack>\"\n",
    "        \n",
    "        print_message = f'''\n",
    "        <Top of Stack: Push/Pop>\n",
    "        _______________________________\n",
    "        '''\n",
    "        current_node = self.head\n",
    "        while current_node != None:\n",
    "            print_message += f'''\n",
    "            {current_node}\n",
    "            _______________________________\n",
    "            '''\n",
    "            current_node = current_node.previous\n",
    "        print_message += f'''\n",
    "        _______________________________\n",
    "        <Bottom of Stack>\n",
    "        '''\n",
    "        return print_message"
   ]
  },
  {
   "cell_type": "code",
   "execution_count": 239,
   "metadata": {},
   "outputs": [],
   "source": [
    "node1 = Node(1, \"idiot\")\n",
    "node2 = Node(2, \"Moron\")\n",
    "node3 = Node(3, \"Booger\")\n",
    "node4 = Node(4, \"toenail\")\n",
    "node5 = Node(5, \"stupid\")"
   ]
  },
  {
   "cell_type": "code",
   "execution_count": 240,
   "metadata": {},
   "outputs": [],
   "source": [
    "st_node1 = Stack_Node(node1)\n",
    "st_node2 = Stack_Node(node2)\n",
    "st_node3 = Stack_Node(node3)\n",
    "st_node4 = Stack_Node(node4)\n",
    "st_node5 = Stack_Node(node5)"
   ]
  },
  {
   "cell_type": "code",
   "execution_count": 241,
   "metadata": {},
   "outputs": [],
   "source": [
    "priority_stack_1 = Priority_Stack()"
   ]
  },
  {
   "cell_type": "code",
   "execution_count": 242,
   "metadata": {},
   "outputs": [],
   "source": [
    "priority_stack_1.push(st_node1)"
   ]
  },
  {
   "cell_type": "code",
   "execution_count": 243,
   "metadata": {},
   "outputs": [],
   "source": [
    "priority_stack_1.push(st_node2)"
   ]
  },
  {
   "cell_type": "code",
   "execution_count": 244,
   "metadata": {},
   "outputs": [],
   "source": [
    "priority_stack_1.push(st_node3)"
   ]
  },
  {
   "cell_type": "code",
   "execution_count": 245,
   "metadata": {},
   "outputs": [],
   "source": [
    "priority_stack_1.push(st_node4)"
   ]
  },
  {
   "cell_type": "code",
   "execution_count": 246,
   "metadata": {},
   "outputs": [],
   "source": [
    "priority_stack_1.push(st_node5)"
   ]
  },
  {
   "cell_type": "code",
   "execution_count": 247,
   "metadata": {},
   "outputs": [
    {
     "data": {
      "text/plain": [
       "\n",
       "        <Top of Stack: Push/Pop>\n",
       "        _______________________________\n",
       "        \n",
       "            Stack_Node(Node(5))\n",
       "            _______________________________\n",
       "            \n",
       "            Stack_Node(Node(4))\n",
       "            _______________________________\n",
       "            \n",
       "            Stack_Node(Node(3))\n",
       "            _______________________________\n",
       "            \n",
       "            Stack_Node(Node(2))\n",
       "            _______________________________\n",
       "            \n",
       "            Stack_Node(Node(1))\n",
       "            _______________________________\n",
       "            \n",
       "        _______________________________\n",
       "        <Bottom of Stack>\n",
       "        "
      ]
     },
     "execution_count": 247,
     "metadata": {},
     "output_type": "execute_result"
    }
   ],
   "source": [
    "priority_stack_1"
   ]
  },
  {
   "cell_type": "code",
   "execution_count": 182,
   "metadata": {},
   "outputs": [],
   "source": [
    "# References\n",
    "# 1. https://algocoding.wordpress.com/2015/04/14/how-to-sort-a-list-of-tuples-in-python-3-4/\n",
    "# 2. Udacity: Data Structures & Algorithms; Data Structures; Lesson 4: Trees; 12. Code: Create a\n",
    "#    Binary Tree\n",
    "# 3. Udacity: Data Structures & Algorithms; Data Structures; Lesson 4: Trees; 15. Code: BST"
   ]
  }
 ],
 "metadata": {
  "kernelspec": {
   "display_name": "Python 3",
   "language": "python",
   "name": "python3"
  },
  "language_info": {
   "codemirror_mode": {
    "name": "ipython",
    "version": 3
   },
   "file_extension": ".py",
   "mimetype": "text/x-python",
   "name": "python",
   "nbconvert_exporter": "python",
   "pygments_lexer": "ipython3",
   "version": "3.7.4"
  }
 },
 "nbformat": 4,
 "nbformat_minor": 2
}
