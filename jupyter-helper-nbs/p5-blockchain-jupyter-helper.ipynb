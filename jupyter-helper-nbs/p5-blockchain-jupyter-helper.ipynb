{
 "cells": [
  {
   "cell_type": "code",
   "execution_count": null,
   "metadata": {},
   "outputs": [],
   "source": [
    "import hashlib\n",
    "\n",
    "def calc_hash(self):\n",
    "      sha = hashlib.sha256()\n",
    "\n",
    "      hash_str = \"We are going to encode this string of data!\".encode('utf-8')\n",
    "\n",
    "      sha.update(hash_str)\n",
    "\n",
    "      return sha.hexdigest()"
   ]
  },
  {
   "cell_type": "code",
   "execution_count": null,
   "metadata": {},
   "outputs": [],
   "source": [
    "class Block:\n",
    "\n",
    "    def __init__(self, timestamp, data, previous_hash):\n",
    "      self.timestamp = timestamp\n",
    "      self.data = data\n",
    "      self.previous_hash = previous_hash\n",
    "      self.hash = self.calc_hash()"
   ]
  }
 ],
 "metadata": {
  "kernelspec": {
   "display_name": "Python 3",
   "language": "python",
   "name": "python3"
  },
  "language_info": {
   "codemirror_mode": {
    "name": "ipython",
    "version": 3
   },
   "file_extension": ".py",
   "mimetype": "text/x-python",
   "name": "python",
   "nbconvert_exporter": "python",
   "pygments_lexer": "ipython3",
   "version": "3.7.4"
  }
 },
 "nbformat": 4,
 "nbformat_minor": 2
}
