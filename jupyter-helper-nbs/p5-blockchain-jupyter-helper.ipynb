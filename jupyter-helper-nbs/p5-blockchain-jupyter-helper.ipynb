{
 "cells": [
  {
   "cell_type": "code",
   "execution_count": 1,
   "metadata": {},
   "outputs": [],
   "source": [
    "import hashlib\n",
    "\n",
    "def calc_hash(self):\n",
    "      sha = hashlib.sha256()\n",
    "\n",
    "      hash_str = \"We are going to encode this string of data!\".encode('utf-8')\n",
    "\n",
    "      sha.update(hash_str)\n",
    "\n",
    "      return sha.hexdigest()"
   ]
  },
  {
   "cell_type": "code",
   "execution_count": 2,
   "metadata": {},
   "outputs": [],
   "source": [
    "class Block:\n",
    "\n",
    "    def __init__(self, timestamp, data, previous_hash):\n",
    "      self.timestamp = timestamp\n",
    "      self.data = data\n",
    "      self.previous_hash = previous_hash\n",
    "      self.hash = self.calc_hash()\n",
    "    \n",
    "    "
   ]
  },
  {
   "cell_type": "markdown",
   "metadata": {},
   "source": [
    "## Dummy version of  calc_hash"
   ]
  },
  {
   "cell_type": "code",
   "execution_count": 5,
   "metadata": {},
   "outputs": [],
   "source": [
    "import hashlib\n",
    "\n",
    "def dummy_calc_hash():\n",
    "      sha = hashlib.sha256()\n",
    "\n",
    "      hash_str = \"We are going to encode this string of data!\".encode('utf-8')\n",
    "\n",
    "      sha.update(hash_str)\n",
    "\n",
    "      return sha.hexdigest()"
   ]
  },
  {
   "cell_type": "code",
   "execution_count": 9,
   "metadata": {},
   "outputs": [],
   "source": [
    "test1 = dummy_calc_hash()"
   ]
  },
  {
   "cell_type": "code",
   "execution_count": 10,
   "metadata": {},
   "outputs": [],
   "source": [
    "test2 = dummy_calc_hash()"
   ]
  },
  {
   "cell_type": "code",
   "execution_count": 11,
   "metadata": {},
   "outputs": [],
   "source": [
    "test3 = dummy_calc_hash()"
   ]
  },
  {
   "cell_type": "markdown",
   "metadata": {},
   "source": [
    "## Let's see what the answers are to these questions"
   ]
  },
  {
   "cell_type": "code",
   "execution_count": 12,
   "metadata": {},
   "outputs": [
    {
     "data": {
      "text/plain": [
       "'a20200a94c75010576e2d6a83e6fa69271901a9d805894b28bd91e6054fbfd10'"
      ]
     },
     "execution_count": 12,
     "metadata": {},
     "output_type": "execute_result"
    }
   ],
   "source": [
    "test1"
   ]
  },
  {
   "cell_type": "code",
   "execution_count": 13,
   "metadata": {},
   "outputs": [
    {
     "data": {
      "text/plain": [
       "'a20200a94c75010576e2d6a83e6fa69271901a9d805894b28bd91e6054fbfd10'"
      ]
     },
     "execution_count": 13,
     "metadata": {},
     "output_type": "execute_result"
    }
   ],
   "source": [
    "test2"
   ]
  },
  {
   "cell_type": "code",
   "execution_count": 14,
   "metadata": {},
   "outputs": [
    {
     "data": {
      "text/plain": [
       "'a20200a94c75010576e2d6a83e6fa69271901a9d805894b28bd91e6054fbfd10'"
      ]
     },
     "execution_count": 14,
     "metadata": {},
     "output_type": "execute_result"
    }
   ],
   "source": [
    "test3"
   ]
  },
  {
   "cell_type": "code",
   "execution_count": 15,
   "metadata": {},
   "outputs": [
    {
     "data": {
      "text/plain": [
       "True"
      ]
     },
     "execution_count": 15,
     "metadata": {},
     "output_type": "execute_result"
    }
   ],
   "source": [
    "test1 == test2"
   ]
  },
  {
   "cell_type": "code",
   "execution_count": 16,
   "metadata": {},
   "outputs": [
    {
     "data": {
      "text/plain": [
       "True"
      ]
     },
     "execution_count": 16,
     "metadata": {},
     "output_type": "execute_result"
    }
   ],
   "source": [
    "test1 == test3"
   ]
  },
  {
   "cell_type": "markdown",
   "metadata": {},
   "source": [
    "## Let's try and figure out Greenwich Mean Time"
   ]
  },
  {
   "cell_type": "code",
   "execution_count": 17,
   "metadata": {},
   "outputs": [],
   "source": [
    "import time"
   ]
  },
  {
   "cell_type": "code",
   "execution_count": 18,
   "metadata": {},
   "outputs": [
    {
     "data": {
      "text/plain": [
       "time.struct_time(tm_year=2020, tm_mon=4, tm_mday=17, tm_hour=16, tm_min=56, tm_sec=53, tm_wday=4, tm_yday=108, tm_isdst=0)"
      ]
     },
     "execution_count": 18,
     "metadata": {},
     "output_type": "execute_result"
    }
   ],
   "source": [
    "time.gmtime()"
   ]
  },
  {
   "cell_type": "code",
   "execution_count": 19,
   "metadata": {},
   "outputs": [],
   "source": [
    "# References\n",
    "# 1. https://en.wikipedia.org/wiki/Blockchain\n",
    "    # According to the above reference, blockchains,\n",
    "    # unless a majority is reached, aren't really edited.\n",
    "    # If one block in the block chain is edited, then all blocks\n",
    "    # in the block chain are edited.\n",
    "\n",
    "#2. https://docs.python.org/3/library/time.html#time.struct_time\n",
    "    # This is where I got the function for greenwich mean time."
   ]
  },
  {
   "cell_type": "markdown",
   "metadata": {},
   "source": [
    "## What I want in a Linked List Structure"
   ]
  },
  {
   "cell_type": "markdown",
   "metadata": {},
   "source": [
    "### Linked List Functionality:\n",
    "\n",
    "1. Add block, but do not allow for the duplication of blocks.\n",
    "    A. I will need to have a dictionary repository of the hashes to ensure that this does not happen.\n",
    "    B. Self.head and self.tail, it will make it easier to append nodes.\n",
    "2. Print Linked List Structure: it will print everything in the linked list structure. Not technically kosher, but my instructor needs to know I did my part."
   ]
  },
  {
   "cell_type": "markdown",
   "metadata": {},
   "source": [
    "## Qualities of BlockChain: https://en.wikipedia.org/wiki/Blockchain\n",
    "1. Once recorded, the data in any given block cannot be altered retroactively without alteration of all subsequent blocks, which requires consensus of the network majority.\n",
    "2. "
   ]
  },
  {
   "cell_type": "markdown",
   "metadata": {},
   "source": [
    "## Create a Block"
   ]
  },
  {
   "cell_type": "code",
   "execution_count": 345,
   "metadata": {},
   "outputs": [],
   "source": [
    "from time import gmtime\n",
    "import hashlib"
   ]
  },
  {
   "cell_type": "code",
   "execution_count": 346,
   "metadata": {},
   "outputs": [],
   "source": [
    "class Block:\n",
    "    def __init__(self, data, hash_str):\n",
    "        '''\n",
    "        This Class creates an individual block for the Linked_Blocks() data structure\n",
    "        class.\n",
    "        \n",
    "        Init Variables:\n",
    "            self.timestamp = This is the timestamp in Greenwich Mean Time.\n",
    "            self.data = This is the data the block holds.\n",
    "            self.hash = This is the unique hash value for the block.\n",
    "            self.previous = This is the previous block that this block is\n",
    "                connected to. By default, this value is None.\n",
    "            self.next = This is the next block that this block is connected to. By\n",
    "                default, this value is None.\n",
    "        '''\n",
    "        \n",
    "        assert type(hash_str) == str, f\"\"\"\n",
    "        The hash argument is not a string. Please input a string for the hash_str\n",
    "        argument.\n",
    "        \"\"\"\n",
    "        \n",
    "        self.timestamp = gmtime()\n",
    "        self.data = data\n",
    "        self.hash = self.calc_hash(hash_str)        \n",
    "        self.previous = None\n",
    "        self.next = None\n",
    "    \n",
    "    def calc_hash(self, the_string):\n",
    "        '''\n",
    "        This takes a string value and encodes it with a hash value using\n",
    "        functions from the imported hashlib module.\n",
    "        '''\n",
    "        sha = hashlib.sha256()\n",
    "        str_encoded = the_string.encode('utf-8')\n",
    "        sha.update(str_encoded)\n",
    "        return sha.hexdigest()\n",
    "    \n",
    "    def get_hash(self):\n",
    "        '''\n",
    "        This function returns self.hash.\n",
    "        '''\n",
    "        return self.hash\n",
    "    \n",
    "    def get_data(self):\n",
    "        '''\n",
    "        This function returns self.data.\n",
    "        '''\n",
    "        return self.data\n",
    "    \n",
    "    def get_previous(self):\n",
    "        '''\n",
    "        This function returns self.previous\n",
    "        '''\n",
    "        return self.previous\n",
    "    \n",
    "    def get_next(self):\n",
    "        '''\n",
    "        This function returns self.next\n",
    "        '''\n",
    "        return self.next\n",
    "    \n",
    "    def __repr__(self):\n",
    "        '''\n",
    "        When print(Block) is called: This formated value is what is returned.\n",
    "        '''\n",
    "        return f\"\"\"\n",
    "        Block(Hash: {self.hash},\n",
    "              Data: {self.data})\n",
    "        \"\"\"\n",
    "    \n",
    "    def __str__(self):\n",
    "        '''\n",
    "        When str(Block) is called: This formated value is what is returned.\n",
    "        '''\n",
    "        return f\"\"\"\n",
    "        Block(Hash: {self.hash},\n",
    "              Data: {self.data})\n",
    "        \"\"\"\n",
    "    "
   ]
  },
  {
   "cell_type": "code",
   "execution_count": 347,
   "metadata": {},
   "outputs": [],
   "source": [
    "class Block_Links():\n",
    "    def __init__(self):\n",
    "        '''\n",
    "        This is a linked list data structure that chains blocks from the Block class.\n",
    "        \n",
    "        Init Variables:\n",
    "            Self.head = This is the head of the structure, the first block.\n",
    "            Self.tail = This is the last block of the structure.\n",
    "            self.num_elements = This counts the number of elements in the structure.\n",
    "            self.hash_dict = This is a dictionary that ensures that any appended value\n",
    "            is a unique value.\n",
    "        '''\n",
    "        self.head = None\n",
    "        self.tail = None\n",
    "        self.num_elements = 0\n",
    "        self.hash_dict = {}\n",
    "    \n",
    "    def size(self):\n",
    "        '''\n",
    "        This returns self.num_elements\n",
    "        '''\n",
    "        return self.num_elements\n",
    "    \n",
    "    def is_empty(self):\n",
    "        '''\n",
    "        This returns True if the data structure is empty, otherwise it returns\n",
    "        False.\n",
    "        '''\n",
    "        return self.size() == 0\n",
    "    \n",
    "    def in_hash_dict(self, hash_str):\n",
    "        '''\n",
    "        This returns True if a hash code is not in the dictionary, otherwise it\n",
    "        returns False.\n",
    "        '''\n",
    "        return self.hash_dict.get(hash_str) != None\n",
    "    \n",
    "    def append(self, data, hash_str):\n",
    "        '''\n",
    "        Given that the hash code is not in the hash_dict, this appends a Block\n",
    "        to the end of Block_Links.\n",
    "        '''\n",
    "        \n",
    "        # This creates the new_block.\n",
    "        new_block = Block(data, hash_str)\n",
    "        \n",
    "        # If the hash code is in the dictionary, this assertion error is returned.\n",
    "        # Only blocks with unique hash codes can be added to the Block_links structure.\n",
    "        assert not self.in_hash_dict(new_block.get_hash()), f'''\n",
    "        This hash code is currently in the hash dictionary. Please choose another\n",
    "        string value to be converted to a hash code that is unique!\n",
    "        '''\n",
    "        \n",
    "        # This appends the block if the Block_Links structure is empty.\n",
    "        if self.is_empty():\n",
    "            self.head = new_block\n",
    "            self.tail = self.head\n",
    "            \n",
    "        # This appends the block to the end of the Block_Links structure, given that\n",
    "        # the structure isn't empty.\n",
    "        else:\n",
    "            temp = self.tail\n",
    "            previous = temp\n",
    "            self.tail.next = new_block\n",
    "            self.tail = self.tail.next\n",
    "            self.tail.previous = previous\n",
    "        \n",
    "        # This updates both the number of elements and the hash dictionary.\n",
    "        self.num_elements += 1\n",
    "        self.hash_dict[new_block.get_hash()] = \"This unique code is now in the hash_dict\"\n",
    "    \n",
    "    def get_head(self):\n",
    "        '''\n",
    "        This returns the head block if there is one. Otherwise, it returns None.\n",
    "        '''\n",
    "        return self.head\n",
    "    \n",
    "    def get_tail(self):\n",
    "        '''\n",
    "        This returns the tail block if there is one. Otherwise, it returns None.\n",
    "        '''\n",
    "        return self.tail\n",
    "    \n",
    "    def __repr__(self):\n",
    "        if self.is_empty():\n",
    "            return \"<Block_Links structure is empty.>\"\n",
    "        else:\n",
    "            current_block = self.head\n",
    "            bl_print = \"<Head of Block_Links Stucture>\\n________________________________\\n\"\n",
    "            bl_print += f'''\n",
    "            Block Hash: {current_block.get_hash()}\n",
    "            Block Data: {current_block.get_data()}\n",
    "            Previous Block Hash: {current_block.get_previous()}\n",
    "            '''\n",
    "            bl_print += \"\\n________________________________\\n\"\n",
    "            current_block = current_block.next\n",
    "            count = 1\n",
    "            \n",
    "            while count < self.size():\n",
    "                bl_print += f'''\n",
    "            Block Hash: {current_block.get_hash()}\n",
    "            Block Data: {current_block.get_data()}\n",
    "            Previous Block Hash: {current_block.get_previous().get_hash()}\n",
    "            '''\n",
    "                bl_print += \"\\n________________________________\\n\"\n",
    "                current_block = current_block.next\n",
    "                count += 1\n",
    "                \n",
    "            bl_print += \"<Tail of Block_Links Structure>\"\n",
    "            return bl_print\n",
    "            "
   ]
  },
  {
   "cell_type": "code",
   "execution_count": 348,
   "metadata": {},
   "outputs": [],
   "source": [
    "block_chain = Block_Links()"
   ]
  },
  {
   "cell_type": "code",
   "execution_count": 349,
   "metadata": {},
   "outputs": [
    {
     "name": "stdout",
     "output_type": "stream",
     "text": [
      "<Block_Links structure is empty.>\n"
     ]
    }
   ],
   "source": [
    "print(block_chain)"
   ]
  },
  {
   "cell_type": "code",
   "execution_count": 350,
   "metadata": {},
   "outputs": [],
   "source": [
    "block_chain.append(\"You're all just a bunch of towels\", \"Towelie\")"
   ]
  },
  {
   "cell_type": "code",
   "execution_count": 351,
   "metadata": {},
   "outputs": [
    {
     "data": {
      "text/plain": [
       "<Head of Block_Links Stucture>\n",
       "________________________________\n",
       "\n",
       "            Block Hash: 0930effdc21fdae8f7fe7fb098b0621bd51a7bf5dbf1c741c167b9fc7338d830\n",
       "            Block Data: You're all just a bunch of towels\n",
       "            Previous Block Hash: None\n",
       "            \n",
       "________________________________\n",
       "<Tail of Block_Links Structure>"
      ]
     },
     "execution_count": 351,
     "metadata": {},
     "output_type": "execute_result"
    }
   ],
   "source": [
    "block_chain"
   ]
  },
  {
   "cell_type": "code",
   "execution_count": 352,
   "metadata": {},
   "outputs": [],
   "source": [
    "block_chain.append(\"I'm free falling\", \"The Eagles\")"
   ]
  },
  {
   "cell_type": "code",
   "execution_count": 353,
   "metadata": {},
   "outputs": [
    {
     "data": {
      "text/plain": [
       "<Head of Block_Links Stucture>\n",
       "________________________________\n",
       "\n",
       "            Block Hash: 0930effdc21fdae8f7fe7fb098b0621bd51a7bf5dbf1c741c167b9fc7338d830\n",
       "            Block Data: You're all just a bunch of towels\n",
       "            Previous Block Hash: None\n",
       "            \n",
       "________________________________\n",
       "\n",
       "            Block Hash: c52a722f6d187b8c42a47e62ce6aaf0002daf869b1a14fd82ec64f87f4c3e036\n",
       "            Block Data: I'm free falling\n",
       "            Previous Block Hash: 0930effdc21fdae8f7fe7fb098b0621bd51a7bf5dbf1c741c167b9fc7338d830\n",
       "            \n",
       "________________________________\n",
       "<Tail of Block_Links Structure>"
      ]
     },
     "execution_count": 353,
     "metadata": {},
     "output_type": "execute_result"
    }
   ],
   "source": [
    "block_chain"
   ]
  },
  {
   "cell_type": "code",
   "execution_count": 354,
   "metadata": {},
   "outputs": [],
   "source": [
    "block_chain.append(\"No More\", \"The day of the Doctor\")"
   ]
  },
  {
   "cell_type": "code",
   "execution_count": 355,
   "metadata": {},
   "outputs": [
    {
     "data": {
      "text/plain": [
       "<Head of Block_Links Stucture>\n",
       "________________________________\n",
       "\n",
       "            Block Hash: 0930effdc21fdae8f7fe7fb098b0621bd51a7bf5dbf1c741c167b9fc7338d830\n",
       "            Block Data: You're all just a bunch of towels\n",
       "            Previous Block Hash: None\n",
       "            \n",
       "________________________________\n",
       "\n",
       "            Block Hash: c52a722f6d187b8c42a47e62ce6aaf0002daf869b1a14fd82ec64f87f4c3e036\n",
       "            Block Data: I'm free falling\n",
       "            Previous Block Hash: 0930effdc21fdae8f7fe7fb098b0621bd51a7bf5dbf1c741c167b9fc7338d830\n",
       "            \n",
       "________________________________\n",
       "\n",
       "            Block Hash: 6163f77876ca6d8c297aa74269d4c072d543f50631c7f18193719957270941be\n",
       "            Block Data: No More\n",
       "            Previous Block Hash: c52a722f6d187b8c42a47e62ce6aaf0002daf869b1a14fd82ec64f87f4c3e036\n",
       "            \n",
       "________________________________\n",
       "<Tail of Block_Links Structure>"
      ]
     },
     "execution_count": 355,
     "metadata": {},
     "output_type": "execute_result"
    }
   ],
   "source": [
    "block_chain"
   ]
  },
  {
   "cell_type": "code",
   "execution_count": 360,
   "metadata": {},
   "outputs": [
    {
     "data": {
      "text/plain": [
       "\n",
       "        Block(Hash: c52a722f6d187b8c42a47e62ce6aaf0002daf869b1a14fd82ec64f87f4c3e036,\n",
       "              Data: I'm free falling,)\n",
       "        "
      ]
     },
     "execution_count": 360,
     "metadata": {},
     "output_type": "execute_result"
    }
   ],
   "source": [
    "block_chain.get_tail().get_previous()"
   ]
  },
  {
   "cell_type": "code",
   "execution_count": 359,
   "metadata": {},
   "outputs": [
    {
     "data": {
      "text/plain": [
       "\n",
       "        Block(Hash: 0930effdc21fdae8f7fe7fb098b0621bd51a7bf5dbf1c741c167b9fc7338d830,\n",
       "              Data: You're all just a bunch of towels,)\n",
       "        "
      ]
     },
     "execution_count": 359,
     "metadata": {},
     "output_type": "execute_result"
    }
   ],
   "source": [
    "block_chain.get_head()"
   ]
  },
  {
   "cell_type": "code",
   "execution_count": 358,
   "metadata": {},
   "outputs": [
    {
     "data": {
      "text/plain": [
       "\n",
       "        Block(Hash: 6163f77876ca6d8c297aa74269d4c072d543f50631c7f18193719957270941be,\n",
       "              Data: No More,)\n",
       "        "
      ]
     },
     "execution_count": 358,
     "metadata": {},
     "output_type": "execute_result"
    }
   ],
   "source": [
    "block_chain.tail"
   ]
  }
 ],
 "metadata": {
  "kernelspec": {
   "display_name": "Python 3",
   "language": "python",
   "name": "python3"
  },
  "language_info": {
   "codemirror_mode": {
    "name": "ipython",
    "version": 3
   },
   "file_extension": ".py",
   "mimetype": "text/x-python",
   "name": "python",
   "nbconvert_exporter": "python",
   "pygments_lexer": "ipython3",
   "version": "3.7.4"
  }
 },
 "nbformat": 4,
 "nbformat_minor": 2
}
