{
 "cells": [
  {
   "cell_type": "code",
   "execution_count": 1,
   "metadata": {},
   "outputs": [],
   "source": [
    "import hashlib\n",
    "\n",
    "def calc_hash(self):\n",
    "      sha = hashlib.sha256()\n",
    "\n",
    "      hash_str = \"We are going to encode this string of data!\".encode('utf-8')\n",
    "\n",
    "      sha.update(hash_str)\n",
    "\n",
    "      return sha.hexdigest()"
   ]
  },
  {
   "cell_type": "code",
   "execution_count": 2,
   "metadata": {},
   "outputs": [],
   "source": [
    "class Block:\n",
    "\n",
    "    def __init__(self, timestamp, data, previous_hash):\n",
    "      self.timestamp = timestamp\n",
    "      self.data = data\n",
    "      self.previous_hash = previous_hash\n",
    "      self.hash = self.calc_hash()\n",
    "    \n",
    "    "
   ]
  },
  {
   "cell_type": "markdown",
   "metadata": {},
   "source": [
    "## Dummy version of  calc_hash"
   ]
  },
  {
   "cell_type": "code",
   "execution_count": 5,
   "metadata": {},
   "outputs": [],
   "source": [
    "import hashlib\n",
    "\n",
    "def dummy_calc_hash():\n",
    "      sha = hashlib.sha256()\n",
    "\n",
    "      hash_str = \"We are going to encode this string of data!\".encode('utf-8')\n",
    "\n",
    "      sha.update(hash_str)\n",
    "\n",
    "      return sha.hexdigest()"
   ]
  },
  {
   "cell_type": "code",
   "execution_count": 9,
   "metadata": {},
   "outputs": [],
   "source": [
    "test1 = dummy_calc_hash()"
   ]
  },
  {
   "cell_type": "code",
   "execution_count": 10,
   "metadata": {},
   "outputs": [],
   "source": [
    "test2 = dummy_calc_hash()"
   ]
  },
  {
   "cell_type": "code",
   "execution_count": 11,
   "metadata": {},
   "outputs": [],
   "source": [
    "test3 = dummy_calc_hash()"
   ]
  },
  {
   "cell_type": "markdown",
   "metadata": {},
   "source": [
    "## Let's see what the answers are to these questions"
   ]
  },
  {
   "cell_type": "code",
   "execution_count": 12,
   "metadata": {},
   "outputs": [
    {
     "data": {
      "text/plain": [
       "'a20200a94c75010576e2d6a83e6fa69271901a9d805894b28bd91e6054fbfd10'"
      ]
     },
     "execution_count": 12,
     "metadata": {},
     "output_type": "execute_result"
    }
   ],
   "source": [
    "test1"
   ]
  },
  {
   "cell_type": "code",
   "execution_count": 13,
   "metadata": {},
   "outputs": [
    {
     "data": {
      "text/plain": [
       "'a20200a94c75010576e2d6a83e6fa69271901a9d805894b28bd91e6054fbfd10'"
      ]
     },
     "execution_count": 13,
     "metadata": {},
     "output_type": "execute_result"
    }
   ],
   "source": [
    "test2"
   ]
  },
  {
   "cell_type": "code",
   "execution_count": 14,
   "metadata": {},
   "outputs": [
    {
     "data": {
      "text/plain": [
       "'a20200a94c75010576e2d6a83e6fa69271901a9d805894b28bd91e6054fbfd10'"
      ]
     },
     "execution_count": 14,
     "metadata": {},
     "output_type": "execute_result"
    }
   ],
   "source": [
    "test3"
   ]
  },
  {
   "cell_type": "code",
   "execution_count": 15,
   "metadata": {},
   "outputs": [
    {
     "data": {
      "text/plain": [
       "True"
      ]
     },
     "execution_count": 15,
     "metadata": {},
     "output_type": "execute_result"
    }
   ],
   "source": [
    "test1 == test2"
   ]
  },
  {
   "cell_type": "code",
   "execution_count": 16,
   "metadata": {},
   "outputs": [
    {
     "data": {
      "text/plain": [
       "True"
      ]
     },
     "execution_count": 16,
     "metadata": {},
     "output_type": "execute_result"
    }
   ],
   "source": [
    "test1 == test3"
   ]
  },
  {
   "cell_type": "markdown",
   "metadata": {},
   "source": [
    "## Let's try and figure out Greenwich Mean Time"
   ]
  },
  {
   "cell_type": "code",
   "execution_count": 17,
   "metadata": {},
   "outputs": [],
   "source": [
    "import time"
   ]
  },
  {
   "cell_type": "code",
   "execution_count": 18,
   "metadata": {},
   "outputs": [
    {
     "data": {
      "text/plain": [
       "time.struct_time(tm_year=2020, tm_mon=4, tm_mday=17, tm_hour=16, tm_min=56, tm_sec=53, tm_wday=4, tm_yday=108, tm_isdst=0)"
      ]
     },
     "execution_count": 18,
     "metadata": {},
     "output_type": "execute_result"
    }
   ],
   "source": [
    "time.gmtime()"
   ]
  },
  {
   "cell_type": "code",
   "execution_count": 19,
   "metadata": {},
   "outputs": [],
   "source": [
    "# References\n",
    "# 1. https://en.wikipedia.org/wiki/Blockchain\n",
    "    # According to the above reference, blockchains,\n",
    "    # unless a majority is reached, aren't really edited.\n",
    "    # If one block in the block chain is edited, then all blocks\n",
    "    # in the block chain are edited.\n",
    "\n",
    "#2. https://docs.python.org/3/library/time.html#time.struct_time\n",
    "    # This is where I got the function for greenwich mean time."
   ]
  },
  {
   "cell_type": "markdown",
   "metadata": {},
   "source": [
    "## What I want in a Linked List Structure"
   ]
  },
  {
   "cell_type": "markdown",
   "metadata": {},
   "source": [
    "### Linked List Functionality:\n",
    "\n",
    "1. Add block, but do not allow for the duplication of blocks.\n",
    "    A. I will need to have a dictionary repository of the hashes to ensure that this does not happen.\n",
    "    B. Self.head and self.tail, it will make it easier to append nodes.\n",
    "2. Print Linked List Structure: it will print everything in the linked list structure. Not technically kosher, but my instructor needs to know I did my part."
   ]
  },
  {
   "cell_type": "markdown",
   "metadata": {},
   "source": [
    "## Qualities of BlockChain: https://en.wikipedia.org/wiki/Blockchain\n",
    "1. Once recorded, the data in any given block cannot be altered retroactively without alteration of all subsequent blocks, which requires consensus of the network majority.\n",
    "2. "
   ]
  },
  {
   "cell_type": "markdown",
   "metadata": {},
   "source": [
    "## Create a Block"
   ]
  },
  {
   "cell_type": "code",
   "execution_count": 22,
   "metadata": {},
   "outputs": [],
   "source": [
    "from time import gmtime\n",
    "import hashlib\n",
    "\n"
   ]
  },
  {
   "cell_type": "code",
   "execution_count": 23,
   "metadata": {},
   "outputs": [],
   "source": [
    "class Block:\n",
    "\n",
    "    def __init__(self, data, hash_str):\n",
    "        '''\n",
    "        This Class creates an individual block for the Linked_Block() data structure\n",
    "        class.\n",
    "        \n",
    "        Init Variables:\n",
    "            self.timestamp = This is the timestamp in Greenwich Mean Time.\n",
    "            self.data = This is the data the block holds.\n",
    "            self.hash = This is the unique hash value for the block.\n",
    "            self.previous = This is the previous block that this block is\n",
    "                connected to. By default, this value is None.\n",
    "            self.next = This is the next block that this block is connected to. By\n",
    "                default, this value is None.\n",
    "        '''\n",
    "        \n",
    "        assert type(hash_str) == str(), f\"\"\"\n",
    "        The hash argument is not a string. Please input a string for the hash_str\n",
    "        argument.\n",
    "        \"\"\"\n",
    "        \n",
    "        self.timestamp = gmtime()\n",
    "        self.data = data\n",
    "        self.hash = self.calc_hash(hash_str)        \n",
    "        self.previous = None\n",
    "        self.next = None\n",
    "       \n",
    "    \n",
    "    def calc_hash(self, the_string):\n",
    "        '''\n",
    "        This takes a string value and encodes it with a hash value using\n",
    "        functions from the imported hashlib module.\n",
    "        '''\n",
    "        sha = hashlib.sha256()\n",
    "        str_encoded = the_string.encode('utf-8')\n",
    "        sha.update(str_encoded)\n",
    "        return sha.hexdigest()\n",
    "    \n",
    "    def __repr__(self):\n",
    "        '''\n",
    "        When print(Block) is called: This formated value is what is returned.\n",
    "        '''\n",
    "        return f\"\"\"\n",
    "        Block(Hash: {self.hash}, Data: {self.data}, Previous: {self.previous_hash})\n",
    "        \"\"\"\n",
    "    \n",
    "    def __str__(self):\n",
    "        '''\n",
    "        When str(Block) is called: This formated value is what is returned.\n",
    "        '''\n",
    "        return f\"\"\"\n",
    "        Block(Hash: {self.hash}, Data: {self.data}, Previous: {self.previous_hash})\n",
    "        \"\"\"\n",
    "        "
   ]
  }
 ],
 "metadata": {
  "kernelspec": {
   "display_name": "Python 3",
   "language": "python",
   "name": "python3"
  },
  "language_info": {
   "codemirror_mode": {
    "name": "ipython",
    "version": 3
   },
   "file_extension": ".py",
   "mimetype": "text/x-python",
   "name": "python",
   "nbconvert_exporter": "python",
   "pygments_lexer": "ipython3",
   "version": "3.7.4"
  }
 },
 "nbformat": 4,
 "nbformat_minor": 2
}
