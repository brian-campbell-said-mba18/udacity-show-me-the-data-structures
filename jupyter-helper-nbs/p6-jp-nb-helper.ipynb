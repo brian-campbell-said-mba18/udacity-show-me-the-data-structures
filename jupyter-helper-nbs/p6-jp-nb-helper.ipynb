{
 "cells": [
  {
   "cell_type": "code",
   "execution_count": 116,
   "metadata": {},
   "outputs": [],
   "source": [
    "class Node:\n",
    "    def __init__(self, value):\n",
    "        self.value = value\n",
    "        self.next = None\n",
    "        \n",
    "    def get_value(self):\n",
    "        return self.value\n",
    "\n",
    "    def __repr__(self):\n",
    "        return str(self.value)"
   ]
  },
  {
   "cell_type": "code",
   "execution_count": 117,
   "metadata": {},
   "outputs": [],
   "source": [
    "class LinkedList:\n",
    "    def __init__(self):\n",
    "        self.head = None\n",
    "        self.num_elements = 0\n",
    "\n",
    "    def __str__(self):\n",
    "        cur_head = self.head\n",
    "        out_string = \"\"\n",
    "        while cur_head:\n",
    "            out_string += str(cur_head.value) + \" -> \"\n",
    "            cur_head = cur_head.next\n",
    "        return out_string\n",
    "    \n",
    "    def size(self):\n",
    "        return self.num_elements\n",
    "    \n",
    "    def is_empty(self):\n",
    "        return self.size() == 0\n",
    "    \n",
    "    def get_head(self):\n",
    "        return self.head\n",
    "\n",
    "    def append(self, value):\n",
    "\n",
    "        if self.head is None:\n",
    "            self.head = Node(value)\n",
    "            self.num_elements += 1\n",
    "            return\n",
    "\n",
    "        node = self.head\n",
    "        while node.next:\n",
    "            node = node.next\n",
    "\n",
    "        node.next = Node(value)\n",
    "        self.num_elements +=1\n",
    "        \n"
   ]
  },
  {
   "cell_type": "code",
   "execution_count": 118,
   "metadata": {},
   "outputs": [],
   "source": [
    "def linked_to_dict(a_linked_list):\n",
    "    '''\n",
    "    This function returns a dictionary of unique values in a linked list and a count of the \n",
    "    number of values in the dictionary.\n",
    "    '''\n",
    "    # This raises an error if a linked list is not put into the funcion.\n",
    "    assert type(a_linked_list) == LinkedList, \"This function needs a linked list as input!\"\n",
    "    \n",
    "    # This raises an error if there is nothing in the linked list.\n",
    "    assert not a_linked_list.is_empty(), \"Please use a linked list that has at least one node.\"\n",
    "    \n",
    "    # This creates the current_node, the unique_values dictionary, and the counter of\n",
    "    # unique values in the dictionary for the while loop.\n",
    "    current_node = a_linked_list.get_head()\n",
    "    unique_values = {}\n",
    "    unique_counter = 0\n",
    "    \n",
    "    # This while loop adds values to the dictionary if a value is not already in the\n",
    "    # dictionary. It also updates the unique value counter if a new value is appended to\n",
    "    # the dictionary. The while loop breaks once the current node == None.\n",
    "    while current_node != None:\n",
    "        if unique_values.get(current_node.get_value()) == None:\n",
    "            unique_values[current_node.get_value()] = \"In linked list!!!!\"\n",
    "            unique_counter +=1\n",
    "        current_node = current_node.next\n",
    "    \n",
    "    return unique_values, unique_counter\n"
   ]
  },
  {
   "cell_type": "code",
   "execution_count": 133,
   "metadata": {},
   "outputs": [],
   "source": [
    "def intersection(llist_1, llist_2):\n",
    "    '''\n",
    "    This function returns the intersection linked list of two linked lists.\n",
    "    '''\n",
    "    \n",
    "    # This creates the dictionary and the unique values count for the first linked list.\n",
    "    dict_1, counter_1 = linked_to_dict(llist_1)\n",
    "    \n",
    "    # This creates the dictionary and the unique values count for the second linked list.\n",
    "    dict_2, counter_2 = linked_to_dict(llist_2)\n",
    "    \n",
    "    # This conditional determines which dictionary is smaller. Once that is determined, the \n",
    "    # small dictionary will be used to query the larger dictionary. It is acceptable if\n",
    "    # both dictionaries are the same size.\n",
    "    if counter_1 <= counter_2:\n",
    "        small = dict_1\n",
    "        big = dict_2\n",
    "    else:\n",
    "        small = dict_2\n",
    "        big = dict_1\n",
    "        \n",
    "    # This initiates the union linked list set.\n",
    "    intersection_output = LinkedList()\n",
    "    \n",
    "    for key in small:\n",
    "        try:\n",
    "            small[key] == big[key]\n",
    "            intersection_output.append(key)\n",
    "            print(f'''\n",
    "            Key: ({key}) in both dictionaries! TRUE! This key was appended to the intersection\n",
    "            linked_list output.\n",
    "            ____________________________________________________________________________\\n\n",
    "            ''')\n",
    "            \n",
    "        except KeyError:\n",
    "            print(f'''\n",
    "            Key: ({key}) not in both dictionaries. FALSE! NOTHING APPENDED!\n",
    "            ____________________________________________________________________________\\n\n",
    "            ''')\n",
    "    \n",
    "    # If the union_output is empty, this function returns none.\n",
    "    if intersection_output.is_empty():\n",
    "        return None\n",
    "    \n",
    "    # If the union_output set is not empty, this function returns the union output.\n",
    "    return intersection_output"
   ]
  },
  {
   "cell_type": "markdown",
   "metadata": {},
   "source": [
    "## Below is Intersection Testing"
   ]
  },
  {
   "cell_type": "code",
   "execution_count": 134,
   "metadata": {},
   "outputs": [],
   "source": [
    "linked_1 = LinkedList()\n",
    "linked_2 = LinkedList()"
   ]
  },
  {
   "cell_type": "code",
   "execution_count": 135,
   "metadata": {},
   "outputs": [],
   "source": [
    "list_1 = ['turds', 'moron', None, 1, 2, 3, 'turds', 'moron', None, 1, 2, 3]\n",
    "list_2 = ['turds', 1, 2, 3, 'stupid', 'idiot', \"Goosio\", \"Pirate\"]"
   ]
  },
  {
   "cell_type": "code",
   "execution_count": 136,
   "metadata": {},
   "outputs": [],
   "source": [
    "for i in list_1:\n",
    "    linked_1.append(i)\n",
    "\n",
    "for i in list_2:\n",
    "    linked_2.append(i)"
   ]
  },
  {
   "cell_type": "code",
   "execution_count": 137,
   "metadata": {
    "scrolled": false
   },
   "outputs": [
    {
     "name": "stdout",
     "output_type": "stream",
     "text": [
      "\n",
      "            Key: (turds) in both dictionaries! TRUE! This key was appended to the intersection\n",
      "            linked_list output.\n",
      "            ____________________________________________________________________________\n",
      "\n",
      "            \n",
      "\n",
      "            Key: (moron) not in both dictionaries. FALSE! NOTHING APPENDED!\n",
      "            ____________________________________________________________________________\n",
      "\n",
      "            \n",
      "\n",
      "            Key: (None) not in both dictionaries. FALSE! NOTHING APPENDED!\n",
      "            ____________________________________________________________________________\n",
      "\n",
      "            \n",
      "\n",
      "            Key: (1) in both dictionaries! TRUE! This key was appended to the intersection\n",
      "            linked_list output.\n",
      "            ____________________________________________________________________________\n",
      "\n",
      "            \n",
      "\n",
      "            Key: (2) in both dictionaries! TRUE! This key was appended to the intersection\n",
      "            linked_list output.\n",
      "            ____________________________________________________________________________\n",
      "\n",
      "            \n",
      "\n",
      "            Key: (3) in both dictionaries! TRUE! This key was appended to the intersection\n",
      "            linked_list output.\n",
      "            ____________________________________________________________________________\n",
      "\n",
      "            \n"
     ]
    }
   ],
   "source": [
    "test_1 = intersection(linked_1, linked_2)"
   ]
  },
  {
   "cell_type": "code",
   "execution_count": 138,
   "metadata": {},
   "outputs": [
    {
     "name": "stdout",
     "output_type": "stream",
     "text": [
      "\n",
      "    Node 1 is turds.\n",
      "\n",
      "\n",
      "    Node 2 is 1.\n",
      "\n",
      "\n",
      "    Node 3 is 2.\n",
      "\n",
      "\n",
      "    Node 4 is 3.\n",
      "\n"
     ]
    }
   ],
   "source": [
    "current_node = test_1.get_head()\n",
    "\n",
    "count = 1\n",
    "while current_node:\n",
    "    print(f'''\n",
    "    Node {count} is {current_node.get_value()}.\\n''')\n",
    "    count += 1\n",
    "    current_node = current_node.next"
   ]
  },
  {
   "cell_type": "markdown",
   "metadata": {},
   "source": [
    "## Union is going to copy intersection code, but I am going to delete entries in the dictionaries.\n",
    "\n",
    "See the link: https://www.hackerearth.com/practice/python/working-with-data/dictionary/tutorial/"
   ]
  },
  {
   "cell_type": "code",
   "execution_count": 55,
   "metadata": {},
   "outputs": [],
   "source": [
    "def union(llist_1, llist_2):\n",
    "        '''\n",
    "    This function returns the union linked list of two linked lists.\n",
    "    '''\n",
    "    \n",
    "    # This creates the dictionary and the unique values count for the first linked list.\n",
    "    dict_1, counter_1 = linked_to_dict(llist_1)\n",
    "    \n",
    "    # This creates the dictionary and the unique values count for the second linked list.\n",
    "    dict_2, counter_2 = linked_to_dict(llist_2)\n",
    "    \n",
    "    # This conditional determines which dictionary is smaller. Once that is determined, the \n",
    "    # small dictionary will be used to query the larger dictionary. It is acceptable if\n",
    "    # both dictionaries are the same size.\n",
    "    if counter_1 <= counter_2:\n",
    "        small = dict_1\n",
    "        big = dict_2\n",
    "    else:\n",
    "        small = dict_2\n",
    "        big = dict_1\n",
    "        \n",
    "    # This initiates the union linked list set.\n",
    "    union_output = LinkedList()\n",
    "    \n",
    "    for key in small:\n",
    "        try:\n",
    "            small[key] == big[key]\n",
    "            union_output.append(key)\n",
    "            print(f'''\n",
    "            Key: ({key}) in both dictionaries! TRUE! This key was appended to the union\n",
    "            linked_list output.\n",
    "            ____________________________________________________________________________\\n\n",
    "            ''')\n",
    "            \n",
    "        except KeyError:\n",
    "            print(f'''\n",
    "            Key: ({key}) not in both dictionaries. FALSE! NOTHING APPENDED!\n",
    "            ____________________________________________________________________________\\n\n",
    "            ''')\n",
    "    \n",
    "    # If the union_output is empty, this function returns none.\n",
    "    if union_output.is_empty():\n",
    "        return None\n",
    "    \n",
    "    # If the union_output set is not empty, this function returns the union output.\n",
    "    return union_output \n",
    "    pass"
   ]
  },
  {
   "cell_type": "code",
   "execution_count": 3,
   "metadata": {},
   "outputs": [
    {
     "name": "stdout",
     "output_type": "stream",
     "text": [
      "None\n",
      "None\n",
      "None\n",
      "None\n"
     ]
    }
   ],
   "source": [
    "# Test case 1\n",
    "\n",
    "linked_list_1 = LinkedList()\n",
    "linked_list_2 = LinkedList()\n",
    "\n",
    "element_1 = [3,2,4,35,6,65,6,4,3,21]\n",
    "element_2 = [6,32,4,9,6,1,11,21,1]\n",
    "\n",
    "for i in element_1:\n",
    "    linked_list_1.append(i)\n",
    "\n",
    "for i in element_2:\n",
    "    linked_list_2.append(i)\n",
    "\n",
    "print (union(linked_list_1,linked_list_2))\n",
    "print (intersection(linked_list_1,linked_list_2))\n",
    "\n",
    "# Test case 2\n",
    "\n",
    "linked_list_3 = LinkedList()\n",
    "linked_list_4 = LinkedList()\n",
    "\n",
    "element_1 = [3,2,4,35,6,65,6,4,3,23]\n",
    "element_2 = [1,7,8,9,11,21,1]\n",
    "\n",
    "for i in element_1:\n",
    "    linked_list_3.append(i)\n",
    "\n",
    "for i in element_2:\n",
    "    linked_list_4.append(i)\n",
    "\n",
    "print (union(linked_list_3,linked_list_4))\n",
    "print (intersection(linked_list_3,linked_list_4))"
   ]
  },
  {
   "cell_type": "code",
   "execution_count": 4,
   "metadata": {},
   "outputs": [],
   "source": [
    "stupid = LinkedList()"
   ]
  },
  {
   "cell_type": "code",
   "execution_count": 6,
   "metadata": {},
   "outputs": [
    {
     "data": {
      "text/plain": [
       "True"
      ]
     },
     "execution_count": 6,
     "metadata": {},
     "output_type": "execute_result"
    }
   ],
   "source": [
    "type(stupid) == LinkedList"
   ]
  },
  {
   "cell_type": "code",
   "execution_count": 64,
   "metadata": {},
   "outputs": [],
   "source": [
    "dict_1 = {1: None, 2: \"shoe\", 3: \"bee\"}\n",
    "dict_2 = {2: \"shoe\", 3: \"bee\", 0: \"Goosio\"}"
   ]
  },
  {
   "cell_type": "code",
   "execution_count": 74,
   "metadata": {},
   "outputs": [
    {
     "name": "stdout",
     "output_type": "stream",
     "text": [
      "Key Error, something not in dict2\n"
     ]
    }
   ],
   "source": [
    "try: \n",
    "    dict_1[1] == dict_2[1]\n",
    "    print(\"True! dict_1 value in dict_2!\")\n",
    "    \n",
    "    \n",
    "except KeyError:\n",
    "    print(\"Key Error, something not in dict2\")\n",
    "    "
   ]
  }
 ],
 "metadata": {
  "kernelspec": {
   "display_name": "Python 3",
   "language": "python",
   "name": "python3"
  },
  "language_info": {
   "codemirror_mode": {
    "name": "ipython",
    "version": 3
   },
   "file_extension": ".py",
   "mimetype": "text/x-python",
   "name": "python",
   "nbconvert_exporter": "python",
   "pygments_lexer": "ipython3",
   "version": "3.7.4"
  }
 },
 "nbformat": 4,
 "nbformat_minor": 2
}
