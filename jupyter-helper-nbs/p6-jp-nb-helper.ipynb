{
 "cells": [
  {
   "cell_type": "code",
   "execution_count": 228,
   "metadata": {},
   "outputs": [],
   "source": [
    "class Node:\n",
    "    def __init__(self, value):\n",
    "        self.value = value\n",
    "        self.next = None\n",
    "        \n",
    "    def get_value(self):\n",
    "        return self.value\n",
    "\n",
    "    def __repr__(self):\n",
    "        return str(self.value)"
   ]
  },
  {
   "cell_type": "code",
   "execution_count": 229,
   "metadata": {},
   "outputs": [],
   "source": [
    "class LinkedList:\n",
    "    def __init__(self):\n",
    "        self.head = None\n",
    "        self.num_elements = 0\n",
    "\n",
    "    def __str__(self):\n",
    "        cur_head = self.head\n",
    "        out_string = \"\"\n",
    "        while cur_head:\n",
    "            out_string += str(cur_head.value) + \" -> \"\n",
    "            cur_head = cur_head.next\n",
    "        return out_string\n",
    "    \n",
    "    def size(self):\n",
    "        return self.num_elements\n",
    "    \n",
    "    def is_empty(self):\n",
    "        return self.size() == 0\n",
    "    \n",
    "    def get_head(self):\n",
    "        return self.head\n",
    "\n",
    "    def append(self, value):\n",
    "\n",
    "        if self.head is None:\n",
    "            self.head = Node(value)\n",
    "            self.num_elements += 1\n",
    "            return\n",
    "\n",
    "        node = self.head\n",
    "        while node.next:\n",
    "            node = node.next\n",
    "\n",
    "        node.next = Node(value)\n",
    "        self.num_elements +=1\n",
    "        \n"
   ]
  },
  {
   "cell_type": "code",
   "execution_count": 230,
   "metadata": {},
   "outputs": [],
   "source": [
    "def linked_to_dict(a_linked_list, debug_mode=False):\n",
    "    '''\n",
    "    This function returns a dictionary of unique values in a linked list and a count of the \n",
    "    number of values in the dictionary.\n",
    "    '''\n",
    "    # This raises an error if a linked list is not put into the funcion.\n",
    "    assert type(a_linked_list) == LinkedList, \"This function needs a linked list as input!\"\n",
    "    \n",
    "    # This raises an error if there is nothing in the linked list.\n",
    "    assert not a_linked_list.is_empty(), \"Please use a linked list that has at least one node.\"\n",
    "    \n",
    "    # This creates the current_node, the unique_values dictionary, and the counter of\n",
    "    # unique values in the dictionary for the while loop.\n",
    "    current_node = a_linked_list.get_head()\n",
    "    unique_values = {}\n",
    "    unique_counter = 0\n",
    "    \n",
    "    # This while loop adds values to the dictionary if a value is not already in the\n",
    "    # dictionary. It also updates the unique value counter if a new value is appended to\n",
    "    # the dictionary. The while loop breaks once the current node == None.\n",
    "    while current_node != None:\n",
    "        key = current_node.get_value()\n",
    "        if unique_values.get(key) == None:\n",
    "            unique_values[key] = \"In linked list!!!!\"\n",
    "            unique_counter +=1\n",
    "            if debug_mode:\n",
    "                print(f'''\n",
    "                The key({key}) has a value of \n",
    "                ({unique_values[key]}) in the dictionary.\n",
    "                ___________________________________________________________________________\\n\n",
    "                ''')\n",
    "        current_node = current_node.next\n",
    "    \n",
    "    return unique_values, unique_counter\n"
   ]
  },
  {
   "cell_type": "code",
   "execution_count": 231,
   "metadata": {},
   "outputs": [],
   "source": [
    "def intersection(llist_1, llist_2, debug_mode=False):\n",
    "    '''\n",
    "    This function returns the intersection linked list of two linked lists.\n",
    "    '''\n",
    "    \n",
    "    # This creates the dictionary and the unique values count for the first linked list.\n",
    "    dict_1, counter_1 = linked_to_dict(llist_1)\n",
    "    \n",
    "    # This creates the dictionary and the unique values count for the second linked list.\n",
    "    dict_2, counter_2 = linked_to_dict(llist_2)\n",
    "    \n",
    "    # This conditional determines which dictionary is smaller. Once that is determined, the \n",
    "    # small dictionary will be used to query the larger dictionary. It is acceptable if\n",
    "    # both dictionaries are the same size.\n",
    "    if counter_1 <= counter_2:\n",
    "        small = dict_1\n",
    "        big = dict_2\n",
    "    else:\n",
    "        small = dict_2\n",
    "        big = dict_1\n",
    "        \n",
    "    # This initiates the intersection linked list set.\n",
    "    intersection_output = LinkedList()\n",
    "    \n",
    "    for key in small:\n",
    "        try:\n",
    "            small[key] == big[key]\n",
    "            intersection_output.append(key)\n",
    "            if debug_mode:\n",
    "                print(f'''\n",
    "                Key: ({key}) in both dictionaries! TRUE! This key was appended to the intersection\n",
    "                linked_list output.\n",
    "                ____________________________________________________________________________\\n\n",
    "                ''')\n",
    "            \n",
    "        except KeyError:\n",
    "            if debug_mode:\n",
    "                print(f'''\n",
    "                Key: ({key}) not in both dictionaries. FALSE! NOTHING APPENDED!\n",
    "                ____________________________________________________________________________\\n\n",
    "                ''')\n",
    "    \n",
    "    # If the intersection_output is empty, this function returns none.\n",
    "    if intersection_output.is_empty():\n",
    "        return None\n",
    "    \n",
    "    # If the intersection_output set is not empty, this function returns the intersection output.\n",
    "    return intersection_output"
   ]
  },
  {
   "cell_type": "markdown",
   "metadata": {},
   "source": [
    "## Below is Intersection Testing"
   ]
  },
  {
   "cell_type": "code",
   "execution_count": 232,
   "metadata": {},
   "outputs": [],
   "source": [
    "linked_1 = LinkedList()\n",
    "linked_2 = LinkedList()"
   ]
  },
  {
   "cell_type": "code",
   "execution_count": 233,
   "metadata": {},
   "outputs": [],
   "source": [
    "list_1 = ['turds', 'moron', None, 1, 2, 3, 'turds', 'moron', None, 1, 2, 3]\n",
    "list_2 = ['turds', 1, 2, 3, 'stupid', 'idiot', \"Goosio\", \"Pirate\"]"
   ]
  },
  {
   "cell_type": "code",
   "execution_count": 234,
   "metadata": {},
   "outputs": [],
   "source": [
    "for i in list_1:\n",
    "    linked_1.append(i)\n",
    "\n",
    "for i in list_2:\n",
    "    linked_2.append(i)"
   ]
  },
  {
   "cell_type": "code",
   "execution_count": 235,
   "metadata": {
    "scrolled": false
   },
   "outputs": [],
   "source": [
    "test_1 = intersection(linked_1, linked_2, debug_mode=False)"
   ]
  },
  {
   "cell_type": "code",
   "execution_count": 236,
   "metadata": {},
   "outputs": [
    {
     "name": "stdout",
     "output_type": "stream",
     "text": [
      "\n",
      "    Node 1 is turds.\n",
      "\n",
      "\n",
      "    Node 2 is 1.\n",
      "\n",
      "\n",
      "    Node 3 is 2.\n",
      "\n",
      "\n",
      "    Node 4 is 3.\n",
      "\n"
     ]
    }
   ],
   "source": [
    "current_node = test_1.get_head()\n",
    "\n",
    "count = 1\n",
    "while current_node:\n",
    "    print(f'''\n",
    "    Node {count} is {current_node.get_value()}.\\n''')\n",
    "    count += 1\n",
    "    current_node = current_node.next"
   ]
  },
  {
   "cell_type": "markdown",
   "metadata": {},
   "source": [
    "## Union is going to copy intersection code, but I am going to delete entries in the dictionaries.\n",
    "\n",
    "See the link: https://www.hackerearth.com/practice/python/working-with-data/dictionary/tutorial/"
   ]
  },
  {
   "cell_type": "code",
   "execution_count": 237,
   "metadata": {},
   "outputs": [],
   "source": [
    "def union(llist_1, llist_2, debug_mode=False):\n",
    "    '''\n",
    "    This function returns the union linked list of two linked lists.\n",
    "    '''\n",
    "    \n",
    "    # This creates the dictionary and the unique values count for the first linked list.\n",
    "    dict_1, counter_1 = linked_to_dict(llist_1)\n",
    "    \n",
    "    # This creates the dictionary and the unique values count for the second linked list.\n",
    "    dict_2, counter_2 = linked_to_dict(llist_2)\n",
    "    \n",
    "    # This conditional determines which dictionary is smaller. Once that is determined, the \n",
    "    # small dictionary will be used to query the larger dictionary. It is acceptable if\n",
    "    # both dictionaries are the same size.\n",
    "    if counter_1 <= counter_2:\n",
    "        small = dict_1\n",
    "        big = dict_2\n",
    "        big_counter = counter_2\n",
    "    else:\n",
    "        small = dict_2\n",
    "        big = dict_1\n",
    "        big_counter = counter_1\n",
    "        \n",
    "    # This initiates the union linked list set.\n",
    "    union_output = LinkedList()\n",
    "    \n",
    "    # This for loop appends everything from the small dictionary into the union linked list.\n",
    "    # It also delete entries out of the big dictionary.\n",
    "    for key in small:\n",
    "        try:\n",
    "            small[key] == big[key] # Boolean Query, if false, we go to except KeyError\n",
    "            union_output.append(key)\n",
    "            del big[key] # Entry deleted from the big dictionary.\n",
    "            big_counter -= 1 # Big dictionary counter -1.\n",
    "            if debug_mode:\n",
    "                print(f'''\n",
    "                Key: ({key}) in both dictionaries! TRUE! This key was appended to the union\n",
    "                linked list output.\n",
    "                ____________________________________________________________________________\\n\n",
    "                ''')\n",
    "            \n",
    "        except KeyError:\n",
    "            union_output.append(key)\n",
    "            if debug_mode:\n",
    "                print(f'''\n",
    "                Key: ({key}) only in the small dictionary. This key was appended to the\n",
    "                union linked list output.\n",
    "                ____________________________________________________________________________\\n\n",
    "                ''')\n",
    "    \n",
    "    # This for loop is activated if there are remaining values in the big dictionary.\n",
    "    if big_counter > 0:\n",
    "        if debug_mode:\n",
    "            print(f'''\n",
    "            Starting new loop. Appending the remaining {big_counter} values from the BIG\n",
    "            dictionary.\n",
    "            ____________________________________________________________________________\\n\n",
    "            ''')\n",
    "        for key in big:\n",
    "            union_output.append(key)\n",
    "            big_counter -= 1\n",
    "            if debug_mode:\n",
    "                  print(f'''\n",
    "                  Appended key ({key}) to the union linked list output. Remaining number of\n",
    "                  values: {big_counter}.\n",
    "                  ____________________________________________________________________________\\n\n",
    "                  ''')\n",
    "            \n",
    "    # If the union_output is empty, this function returns none.\n",
    "    if union_output.is_empty():\n",
    "        return None\n",
    "    \n",
    "    # If the intersection_output set is not empty, this function returns the intersection output.\n",
    "    return union_output"
   ]
  },
  {
   "cell_type": "markdown",
   "metadata": {},
   "source": [
    "## Below is Union Testing"
   ]
  },
  {
   "cell_type": "code",
   "execution_count": 238,
   "metadata": {},
   "outputs": [],
   "source": [
    "linked_1 = LinkedList()\n",
    "linked_2 = LinkedList()"
   ]
  },
  {
   "cell_type": "code",
   "execution_count": 239,
   "metadata": {},
   "outputs": [],
   "source": [
    "list_1 = ['turds', 'moron', None, 1, 2, 3, 'turds', 'moron', None, 1, 2, 3]\n",
    "list_2 = ['turds', 1, 2, 3, 'stupid', 'idiot', \"Goosio\", \"Pirate\", True, False, True, False]"
   ]
  },
  {
   "cell_type": "code",
   "execution_count": 240,
   "metadata": {},
   "outputs": [],
   "source": [
    "for i in list_1:\n",
    "    linked_1.append(i)\n",
    "\n",
    "for i in list_2:\n",
    "    linked_2.append(i)"
   ]
  },
  {
   "cell_type": "code",
   "execution_count": 241,
   "metadata": {},
   "outputs": [
    {
     "name": "stdout",
     "output_type": "stream",
     "text": [
      "turds\n",
      "1\n",
      "2\n",
      "3\n",
      "stupid\n",
      "idiot\n",
      "Goosio\n",
      "Pirate\n",
      "True\n",
      "False\n",
      "True\n",
      "False\n"
     ]
    }
   ],
   "source": [
    "current_node = linked_2.get_head()\n",
    "\n",
    "while current_node:\n",
    "    print(current_node.get_value())\n",
    "    current_node = current_node.next"
   ]
  },
  {
   "cell_type": "code",
   "execution_count": 242,
   "metadata": {},
   "outputs": [
    {
     "name": "stdout",
     "output_type": "stream",
     "text": [
      "\n",
      "                The key (turds) has a value of \n",
      "                (In linked list!!!!) in the dictionary.\n",
      "                ___________________________________________________________________________\n",
      "\n",
      "                \n",
      "\n",
      "                The key (1) has a value of \n",
      "                (In linked list!!!!) in the dictionary.\n",
      "                ___________________________________________________________________________\n",
      "\n",
      "                \n",
      "\n",
      "                The key (2) has a value of \n",
      "                (In linked list!!!!) in the dictionary.\n",
      "                ___________________________________________________________________________\n",
      "\n",
      "                \n",
      "\n",
      "                The key (3) has a value of \n",
      "                (In linked list!!!!) in the dictionary.\n",
      "                ___________________________________________________________________________\n",
      "\n",
      "                \n",
      "\n",
      "                The key (stupid) has a value of \n",
      "                (In linked list!!!!) in the dictionary.\n",
      "                ___________________________________________________________________________\n",
      "\n",
      "                \n",
      "\n",
      "                The key (idiot) has a value of \n",
      "                (In linked list!!!!) in the dictionary.\n",
      "                ___________________________________________________________________________\n",
      "\n",
      "                \n",
      "\n",
      "                The key (Goosio) has a value of \n",
      "                (In linked list!!!!) in the dictionary.\n",
      "                ___________________________________________________________________________\n",
      "\n",
      "                \n",
      "\n",
      "                The key (Pirate) has a value of \n",
      "                (In linked list!!!!) in the dictionary.\n",
      "                ___________________________________________________________________________\n",
      "\n",
      "                \n",
      "\n",
      "                The key (False) has a value of \n",
      "                (In linked list!!!!) in the dictionary.\n",
      "                ___________________________________________________________________________\n",
      "\n",
      "                \n"
     ]
    }
   ],
   "source": [
    "dict_2, count_2 = linked_to_dict(linked_2, debug_mode=True)"
   ]
  },
  {
   "cell_type": "code",
   "execution_count": 225,
   "metadata": {
    "scrolled": false
   },
   "outputs": [],
   "source": [
    "test_1 = union(linked_1, linked_2, debug_mode=False)\n"
   ]
  },
  {
   "cell_type": "code",
   "execution_count": 226,
   "metadata": {},
   "outputs": [
    {
     "name": "stdout",
     "output_type": "stream",
     "text": [
      "{'turds': 'In linked list!!!!', 1: 'In linked list!!!!', 2: 'In linked list!!!!', 3: 'In linked list!!!!', 'stupid': 'In linked list!!!!', 'idiot': 'In linked list!!!!', 'Goosio': 'In linked list!!!!', 'Pirate': 'In linked list!!!!', False: 'In linked list!!!!'}\n"
     ]
    }
   ],
   "source": [
    "print(dict_2)"
   ]
  },
  {
   "cell_type": "code",
   "execution_count": 227,
   "metadata": {},
   "outputs": [
    {
     "name": "stdout",
     "output_type": "stream",
     "text": [
      "\n",
      "    Node 1 is turds.\n",
      "\n",
      "\n",
      "    Node 2 is moron.\n",
      "\n",
      "\n",
      "    Node 3 is None.\n",
      "\n",
      "\n",
      "    Node 4 is 1.\n",
      "\n",
      "\n",
      "    Node 5 is 2.\n",
      "\n",
      "\n",
      "    Node 6 is 3.\n",
      "\n",
      "\n",
      "    Node 7 is stupid.\n",
      "\n",
      "\n",
      "    Node 8 is idiot.\n",
      "\n",
      "\n",
      "    Node 9 is Goosio.\n",
      "\n",
      "\n",
      "    Node 10 is Pirate.\n",
      "\n",
      "\n",
      "    Node 11 is False.\n",
      "\n"
     ]
    }
   ],
   "source": [
    "current_node = test_1.get_head()\n",
    "\n",
    "count = 1\n",
    "while current_node:\n",
    "    print(f'''\n",
    "    Node {count} is {current_node.get_value()}.\\n''')\n",
    "    count += 1\n",
    "    current_node = current_node.next"
   ]
  },
  {
   "cell_type": "code",
   "execution_count": 109,
   "metadata": {},
   "outputs": [
    {
     "name": "stdout",
     "output_type": "stream",
     "text": [
      "3 -> 2 -> 4 -> 35 -> 6 -> 65 -> 21 -> 32 -> 9 -> 1 -> 11 -> \n",
      "4 -> 6 -> 21 -> \n",
      "1 -> 7 -> 8 -> 9 -> 11 -> 21 -> 3 -> 2 -> 4 -> 35 -> 6 -> 65 -> 23 -> \n",
      "None\n"
     ]
    }
   ],
   "source": [
    "# Test case 1\n",
    "\n",
    "linked_list_1 = LinkedList()\n",
    "linked_list_2 = LinkedList()\n",
    "\n",
    "element_1 = [3,2,4,35,6,65,6,4,3,21]\n",
    "element_2 = [6,32,4,9,6,1,11,21,1]\n",
    "\n",
    "for i in element_1:\n",
    "    linked_list_1.append(i)\n",
    "\n",
    "for i in element_2:\n",
    "    linked_list_2.append(i)\n",
    "\n",
    "print (union(linked_list_1,linked_list_2))\n",
    "print (intersection(linked_list_1,linked_list_2))\n",
    "\n",
    "# Test case 2\n",
    "\n",
    "linked_list_3 = LinkedList()\n",
    "linked_list_4 = LinkedList()\n",
    "\n",
    "element_1 = [3,2,4,35,6,65,6,4,3,23]\n",
    "element_2 = [1,7,8,9,11,21,1]\n",
    "\n",
    "for i in element_1:\n",
    "    linked_list_3.append(i)\n",
    "\n",
    "for i in element_2:\n",
    "    linked_list_4.append(i)\n",
    "\n",
    "print (union(linked_list_3,linked_list_4))\n",
    "print (intersection(linked_list_3,linked_list_4))"
   ]
  },
  {
   "cell_type": "code",
   "execution_count": 4,
   "metadata": {},
   "outputs": [],
   "source": [
    "stupid = LinkedList()"
   ]
  },
  {
   "cell_type": "code",
   "execution_count": 6,
   "metadata": {},
   "outputs": [
    {
     "data": {
      "text/plain": [
       "True"
      ]
     },
     "execution_count": 6,
     "metadata": {},
     "output_type": "execute_result"
    }
   ],
   "source": [
    "type(stupid) == LinkedList"
   ]
  },
  {
   "cell_type": "code",
   "execution_count": 64,
   "metadata": {},
   "outputs": [],
   "source": [
    "dict_1 = {1: None, 2: \"shoe\", 3: \"bee\"}\n",
    "dict_2 = {2: \"shoe\", 3: \"bee\", 0: \"Goosio\"}"
   ]
  },
  {
   "cell_type": "code",
   "execution_count": 74,
   "metadata": {
    "scrolled": true
   },
   "outputs": [
    {
     "name": "stdout",
     "output_type": "stream",
     "text": [
      "Key Error, something not in dict2\n"
     ]
    }
   ],
   "source": [
    "try: \n",
    "    dict_1[1] == dict_2[1]\n",
    "    print(\"True! dict_1 value in dict_2!\")\n",
    "    \n",
    "    \n",
    "except KeyError:\n",
    "    print(\"Key Error, something not in dict2\")\n",
    "    "
   ]
  },
  {
   "cell_type": "code",
   "execution_count": 178,
   "metadata": {},
   "outputs": [],
   "source": [
    "idiot = {}"
   ]
  },
  {
   "cell_type": "code",
   "execution_count": 179,
   "metadata": {},
   "outputs": [],
   "source": [
    "idiot[True] = 'your mom'"
   ]
  },
  {
   "cell_type": "code",
   "execution_count": 180,
   "metadata": {},
   "outputs": [
    {
     "data": {
      "text/plain": [
       "'your mom'"
      ]
     },
     "execution_count": 180,
     "metadata": {},
     "output_type": "execute_result"
    }
   ],
   "source": [
    "idiot[True]"
   ]
  },
  {
   "cell_type": "code",
   "execution_count": 181,
   "metadata": {},
   "outputs": [
    {
     "data": {
      "text/plain": [
       "'your mom'"
      ]
     },
     "execution_count": 181,
     "metadata": {},
     "output_type": "execute_result"
    }
   ],
   "source": [
    "idiot.get(True)"
   ]
  },
  {
   "cell_type": "code",
   "execution_count": 182,
   "metadata": {},
   "outputs": [],
   "source": [
    "stupid_node = Node(True)"
   ]
  },
  {
   "cell_type": "code",
   "execution_count": 183,
   "metadata": {},
   "outputs": [
    {
     "data": {
      "text/plain": [
       "True"
      ]
     },
     "execution_count": 183,
     "metadata": {},
     "output_type": "execute_result"
    }
   ],
   "source": [
    "stupid_node.get_value()"
   ]
  },
  {
   "cell_type": "code",
   "execution_count": 184,
   "metadata": {},
   "outputs": [],
   "source": [
    "del idiot[True]"
   ]
  },
  {
   "cell_type": "code",
   "execution_count": 185,
   "metadata": {},
   "outputs": [
    {
     "name": "stdout",
     "output_type": "stream",
     "text": [
      "{}\n"
     ]
    }
   ],
   "source": [
    "print(idiot)"
   ]
  },
  {
   "cell_type": "code",
   "execution_count": 186,
   "metadata": {},
   "outputs": [
    {
     "name": "stdout",
     "output_type": "stream",
     "text": [
      "{}\n"
     ]
    }
   ],
   "source": [
    "print(idiot)"
   ]
  },
  {
   "cell_type": "code",
   "execution_count": 190,
   "metadata": {},
   "outputs": [
    {
     "name": "stdout",
     "output_type": "stream",
     "text": [
      "None\n"
     ]
    }
   ],
   "source": [
    "print(idiot.get(stupid_node.get_value()))"
   ]
  }
 ],
 "metadata": {
  "kernelspec": {
   "display_name": "Python 3",
   "language": "python",
   "name": "python3"
  },
  "language_info": {
   "codemirror_mode": {
    "name": "ipython",
    "version": 3
   },
   "file_extension": ".py",
   "mimetype": "text/x-python",
   "name": "python",
   "nbconvert_exporter": "python",
   "pygments_lexer": "ipython3",
   "version": "3.7.4"
  }
 },
 "nbformat": 4,
 "nbformat_minor": 2
}
