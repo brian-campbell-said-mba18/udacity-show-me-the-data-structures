{
 "cells": [
  {
   "cell_type": "markdown",
   "metadata": {},
   "source": [
    "Write a function that provides an efficient look up of whether the user is in a group."
   ]
  },
  {
   "cell_type": "code",
   "execution_count": 1,
   "metadata": {},
   "outputs": [],
   "source": [
    "class Group(object):\n",
    "    def __init__(self, _name):\n",
    "        self.name = _name\n",
    "        self.groups = []\n",
    "        self.users = []\n",
    "\n",
    "    def add_group(self, group):\n",
    "        self.groups.append(group)\n",
    "\n",
    "    def add_user(self, user):\n",
    "        self.users.append(user)\n",
    "\n",
    "    def get_groups(self):\n",
    "        return self.groups\n",
    "\n",
    "    def get_users(self):\n",
    "        return self.users\n",
    "\n",
    "    def get_name(self):\n",
    "        return self.name\n",
    "\n",
    "\n",
    "parent = Group(\"parent\")\n",
    "\n",
    "child = Group(\"child\")\n",
    "stupid_child = Group(\"stupid child\")\n",
    "\n",
    "sub_child = Group(\"subchild\")\n",
    "sub_stupid_child = Group(\"sub stupid child\")\n",
    "\n",
    "the_donald_user = \"Donald J Trump\"\n",
    "sub_child_user = \"sub child user\"\n",
    "\n",
    "sub_child.add_user(sub_child_user)\n",
    "sub_stupid_child.add_user(the_donald_user)\n",
    "\n",
    "child.add_group(sub_child)\n",
    "stupid_child.add_group(sub_stupid_child)\n",
    "\n",
    "parent.add_group(stupid_child)\n",
    "parent.add_group(child)"
   ]
  },
  {
   "cell_type": "markdown",
   "metadata": {},
   "source": [
    "The function is below."
   ]
  },
  {
   "cell_type": "code",
   "execution_count": null,
   "metadata": {},
   "outputs": [],
   "source": [
    "def is_user_in_group(user, group):\n",
    "    \"\"\"\n",
    "    Return True if user is in the group, False otherwise.\n",
    "\n",
    "    Args:\n",
    "      user(str): user name/id\n",
    "      group(class:Group): group to check user membership against\n",
    "    \n",
    "    This recursive search has three steps.\n",
    "    \n",
    "    Step 1: If it finds the name within the names list of a group,\n",
    "    it returns true.\n",
    "    \n",
    "    Step 2: If it finds that there are no groups in its group list\n",
    "    to query, it returns False.\n",
    "    \n",
    "    Step 3: If there are groups to continue to search for names,\n",
    "    the function calls itself to keep searching.\n",
    "    \"\"\"\n",
    "    \n",
    "    dynamic_group = group\n",
    "    \n",
    "    # This is step 1\n",
    "    if user in dynamic_group.get_users():\n",
    "        print(\"Found: {} in group: {}. True. BREAK!!!!\".format(user, dynamic_group.get_name()))\n",
    "        return True\n",
    "    \n",
    "    # This is step 2\n",
    "    if len(dynamic_group.get_groups()) == 0:\n",
    "        print(\"Group: {} has no group list. False.\\n\".format(dynamic_group.get_name()))\n",
    "        return False\n",
    "    \n",
    "    # This is step 3\n",
    "    print(\"Going deeper into the matrix, Group: {} has groups...\\n\".format(dynamic_group.get_name()))\n",
    "    group_list = dynamic_group.get_groups()\n",
    "    for i in group_list:\n",
    "        output = is_user_in_group(user, i)\n",
    "        if output:\n",
    "            break\n",
    "        \n",
    "    return output\n",
    "    "
   ]
  },
  {
   "cell_type": "code",
   "execution_count": 3,
   "metadata": {},
   "outputs": [
    {
     "name": "stdout",
     "output_type": "stream",
     "text": [
      "Going deeper into the matrix, Group: parent has groups...\n",
      "\n",
      "Going deeper into the matrix, Group: stupid child has groups...\n",
      "\n",
      "Found: Donald J Trump in group: sub stupid child. True. BREAK!!!!\n"
     ]
    },
    {
     "data": {
      "text/plain": [
       "True"
      ]
     },
     "execution_count": 3,
     "metadata": {},
     "output_type": "execute_result"
    }
   ],
   "source": [
    "is_user_in_group(the_donald_user, parent)"
   ]
  }
 ],
 "metadata": {
  "kernelspec": {
   "display_name": "Python 3",
   "language": "python",
   "name": "python3"
  },
  "language_info": {
   "codemirror_mode": {
    "name": "ipython",
    "version": 3
   },
   "file_extension": ".py",
   "mimetype": "text/x-python",
   "name": "python",
   "nbconvert_exporter": "python",
   "pygments_lexer": "ipython3",
   "version": "3.7.4"
  }
 },
 "nbformat": 4,
 "nbformat_minor": 2
}
