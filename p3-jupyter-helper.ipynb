{
 "cells": [
  {
   "cell_type": "markdown",
   "metadata": {},
   "source": [
    "Write a function that provides an efficient look up of whether the user is in a group."
   ]
  },
  {
   "cell_type": "code",
   "execution_count": 43,
   "metadata": {},
   "outputs": [],
   "source": [
    "class Group(object):\n",
    "    def __init__(self, _name):\n",
    "        self.name = _name\n",
    "        self.groups = []\n",
    "        self.users = []\n",
    "\n",
    "    def add_group(self, group):\n",
    "        self.groups.append(group)\n",
    "\n",
    "    def add_user(self, user):\n",
    "        self.users.append(user)\n",
    "\n",
    "    def get_groups(self):\n",
    "        return self.groups\n",
    "\n",
    "    def get_users(self):\n",
    "        return self.users\n",
    "\n",
    "    def get_name(self):\n",
    "        return self.name\n",
    "\n",
    "\n",
    "parent = Group(\"parent\")\n",
    "stupid_child = Group(\"Stupid Child\")\n",
    "child = Group(\"child\")\n",
    "sub_child = Group(\"subchild\")\n",
    "\n",
    "sub_child_user = \"sub_child_user\"\n",
    "sub_child.add_user(sub_child_user)\n",
    "\n",
    "child.add_group(sub_child)\n",
    "parent.add_group(stupid_child)\n",
    "parent.add_group(child)"
   ]
  },
  {
   "cell_type": "markdown",
   "metadata": {},
   "source": [
    "The function is below."
   ]
  },
  {
   "cell_type": "code",
   "execution_count": 44,
   "metadata": {},
   "outputs": [],
   "source": [
    "def is_user_in_group(user, group):\n",
    "    \"\"\"\n",
    "    Return True if user is in the group, False otherwise.\n",
    "\n",
    "    Args:\n",
    "      user(str): user name/id\n",
    "      group(class:Group): group to check user membership against\n",
    "    \n",
    "    This recursive search has three steps.\n",
    "    \n",
    "    Step 1: If it finds the name within the names list of a group,\n",
    "    it returns true.\n",
    "    \n",
    "    Step 2: If it finds that there are no groups in its group list\n",
    "    to query, it returns False.\n",
    "    \n",
    "    Step 3: If there are groups to continue to search for names,\n",
    "    the function calls itself to keep searching.\n",
    "    \"\"\"\n",
    "    \n",
    "    dynamic_group = group\n",
    "    \n",
    "    # This is step 1\n",
    "    if user in dynamic_group.get_users():\n",
    "        print(\"Found: {} in group: {}. True. BREAK!!!!\".format(user, dynamic_group.get_name()))\n",
    "        return True\n",
    "    \n",
    "    # This is step 2\n",
    "    if len(dynamic_group.get_groups()) == 0:\n",
    "        print(\"Group: {} has no group list. False.\\n\".format(dynamic_group.get_name()))\n",
    "        return False\n",
    "    \n",
    "    # This is step 3\n",
    "    print(\"Going deeper into the matrix, Group {} has groups...\\n\".format(dynamic_group.get_name()))\n",
    "    group_list = dynamic_group.get_groups()\n",
    "    for i in group_list:\n",
    "        output = recursive_search(user, i)\n",
    "        \n",
    "    return output\n",
    "    "
   ]
  },
  {
   "cell_type": "code",
   "execution_count": 45,
   "metadata": {},
   "outputs": [
    {
     "name": "stdout",
     "output_type": "stream",
     "text": [
      "Going deeper into the matrix, Group parent has groups...\n",
      "\n",
      "Group: Stupid Child has no group list. False. BREAK!!!!\n",
      "Going deeper into the matrix, Group child has groups...\n",
      "\n",
      "Found: sub_child_user in group: subchild. True. BREAK!!!!\n"
     ]
    },
    {
     "data": {
      "text/plain": [
       "True"
      ]
     },
     "execution_count": 45,
     "metadata": {},
     "output_type": "execute_result"
    }
   ],
   "source": [
    "is_user_in_group(sub_child_user, parent)"
   ]
  },
  {
   "cell_type": "code",
   "execution_count": 23,
   "metadata": {},
   "outputs": [],
   "source": [
    "def is_user_in_group(user, group):\n",
    "    \"\"\"\n",
    "    Return True if user is in the group, False otherwise.\n",
    "\n",
    "    Args:\n",
    "      user(str): user name/id\n",
    "      group(class:Group): group to check user membership against\n",
    "    \"\"\"\n",
    "    def search_names(name, group_var):\n",
    "        '''\n",
    "        This searches for a name in a list. If found, this function\n",
    "        returns true, otherwise false.\n",
    "        '''\n",
    "        return name in group_var.get_users()\n",
    "    \n",
    "    def recursive_search(the_name, the_group):\n",
    "        '''\n",
    "        This recursive search has three steps.\n",
    "        Step 1: If it finds the name within the names list of a group,\n",
    "        it returns true.\n",
    "        Step 2: If it finds that there are no groups in its group list\n",
    "        to query, it returns False.\n",
    "        Step 3: If there are groups to continue to search for names,\n",
    "        the function calls itself to keep searching.\n",
    "        '''\n",
    "        if search_names(the_name, the_group):\n",
    "            print(\"Found {} in subgroup {}. True. BREAK!!!!\".format(the_name, the_group.get_name()))\n",
    "            return True\n",
    "        if len(the_group.get_groups()) == 0:\n",
    "            print(\"Subgroup {} has no group list. False. BREAK!!!!\".format(the_group.get_name()))\n",
    "            return False\n",
    "        \n",
    "        print(\"Going deeper into the matrix, Subgroup {} has groups...\\n\".format(the_group.get_name()))\n",
    "        group_list = the_group.get_groups()\n",
    "        for i in group_list:\n",
    "            output = recursive_search(the_name, i)\n",
    "        \n",
    "        return output\n",
    "    \n",
    "    # In the simple case of a user being in the immediate user list,\n",
    "    # the function returns true.\n",
    "    if search_names(user, group):\n",
    "        print(\"Found the user in the first pass. That was easy! BREAK!!!\")\n",
    "        return True\n",
    "    \n",
    "    # If the name was not in the simple case, and there are no groups to search through,\n",
    "    # then this function returns false.\n",
    "    if len(group.get_groups()) == 0:\n",
    "        print(\"Not in users and no groups. Answer is definitely false. That was easy! BREAK!!!\")\n",
    "        return False\n",
    "    \n",
    "    print(\"Entering the matrix for the first time. Searching groups within {}...\\n\".format(group.get_name()))\n",
    "    for i in group.get_groups():\n",
    "        output = recursive_search(user, i)\n",
    "    \n",
    "    return output\n",
    "    "
   ]
  },
  {
   "cell_type": "code",
   "execution_count": null,
   "metadata": {},
   "outputs": [],
   "source": []
  }
 ],
 "metadata": {
  "kernelspec": {
   "display_name": "Python 3",
   "language": "python",
   "name": "python3"
  },
  "language_info": {
   "codemirror_mode": {
    "name": "ipython",
    "version": 3
   },
   "file_extension": ".py",
   "mimetype": "text/x-python",
   "name": "python",
   "nbconvert_exporter": "python",
   "pygments_lexer": "ipython3",
   "version": "3.7.4"
  }
 },
 "nbformat": 4,
 "nbformat_minor": 2
}
